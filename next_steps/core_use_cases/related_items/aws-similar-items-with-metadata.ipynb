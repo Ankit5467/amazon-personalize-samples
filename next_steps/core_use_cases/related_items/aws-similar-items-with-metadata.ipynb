{
 "cells": [
  {
   "cell_type": "markdown",
   "id": "80e6fd4e",
   "metadata": {},
   "source": [
    "# Amazon Personalize: using item metadata to identify stronger similarities\n",
    "\n",
    "The relevance of the recommendations you deliver with Amazon Personalize depends on the data available when the recommendations are generated. Amazon Personalize uses your users’ historical interactions, the attributes of your items, and your users’ metadata to learn what items are most relevant for each user. The primary data required by Amazon Personalize is user-item interactions. The interactions users have with items in your catalog, such as clicking on a product, reading an article, watching a video, or purchasing a product, are an important signal of what they have found relevant in the past. Including item and user attributes, also known as metadata, can enhance the relevance of recommendations; especially for new items that are similar to what your users have found relevant. However, structured metadata such as an item’s category, style, or genre may not always be readily available or doesn’t provide all the information that you have in your narrative descriptions. \n",
    "\n",
    "Now Amazon Personalize allows you to add item metadata such as product descriptions, genre of a movie, etc.. Amazon Personalize hosts, manages, and automatically processes your item metadata attributes and use it to improve the performance of your Amazon Personalize related items solutions.\n",
    "\n",
    "This notebook will demonstrate how the new recipe `aws-similar-items` plus item metadata improves the relevance of recommendations compared to the `SIMS` recipe.\n",
    "\n",
    "Amazon Reviews data from the Amazon Prime Pantry category are used for the interactions and items datasets.\n",
    "\n",
    "When considering including text in your items dataset, keep the following best practices in mind.\n",
    "\n",
    "One dataset group will be created that will include the interactions data plus item metadata this way we can train two separate models and compare their offline and online results."
   ]
  },
  {
   "cell_type": "code",
   "execution_count": 1,
   "id": "162eef4a",
   "metadata": {},
   "outputs": [],
   "source": [
    "import pandas as pd\n",
    "import json\n",
    "import numpy as np\n",
    "from datetime import datetime\n",
    "import boto3\n",
    "import time\n",
    "from time import sleep\n",
    "from lxml import html"
   ]
  },
  {
   "cell_type": "markdown",
   "id": "6fa7b4ad",
   "metadata": {},
   "source": [
    "## Load and inspect datasets\n",
    "\n",
    "We'll start by loading the Prime Pantry reviews dataset. You will need to fill out the form for access to the data files:\n",
    "\n",
    "http://deepyeti.ucsd.edu/jianmo/amazon/index.html\n",
    "\n",
    "Citation:\n",
    "> Justifying recommendations using distantly-labeled reviews and fined-grained aspects  \n",
    "> Jianmo Ni, Jiacheng Li, Julian McAuley  \n",
    "> Empirical Methods in Natural Language Processing (EMNLP), 2019 [pdf](http://cseweb.ucsd.edu/~jmcauley/pdfs/emnlp19a.pdf)"
   ]
  },
  {
   "cell_type": "code",
   "execution_count": 2,
   "id": "d1963eb5",
   "metadata": {},
   "outputs": [
    {
     "name": "stdout",
     "output_type": "stream",
     "text": [
      "--2021-10-07 15:14:39--  http://deepyeti.ucsd.edu/jianmo/amazon/categoryFiles/Prime_Pantry.json.gz\n",
      "Resolving deepyeti.ucsd.edu (deepyeti.ucsd.edu)... 169.228.63.50\n",
      "Connecting to deepyeti.ucsd.edu (deepyeti.ucsd.edu)|169.228.63.50|:80... connected.\n",
      "HTTP request sent, awaiting response... 200 OK\n",
      "Length: 45435146 (43M) [application/octet-stream]\n",
      "Saving to: ‘Prime_Pantry.json.gz’\n",
      "\n",
      "Prime_Pantry.json.g 100%[===================>]  43.33M  17.6MB/s    in 2.5s    \n",
      "\n",
      "2021-10-07 15:14:42 (17.6 MB/s) - ‘Prime_Pantry.json.gz’ saved [45435146/45435146]\n",
      "\n",
      "--2021-10-07 15:14:42--  http://deepyeti.ucsd.edu/jianmo/amazon/metaFiles2/meta_Prime_Pantry.json.gz\n",
      "Resolving deepyeti.ucsd.edu (deepyeti.ucsd.edu)... 169.228.63.50\n",
      "Connecting to deepyeti.ucsd.edu (deepyeti.ucsd.edu)|169.228.63.50|:80... connected.\n",
      "HTTP request sent, awaiting response... 200 OK\n",
      "Length: 5281662 (5.0M) [application/octet-stream]\n",
      "Saving to: ‘meta_Prime_Pantry.json.gz’\n",
      "\n",
      "meta_Prime_Pantry.j 100%[===================>]   5.04M  7.24MB/s    in 0.7s    \n",
      "\n",
      "2021-10-07 15:14:43 (7.24 MB/s) - ‘meta_Prime_Pantry.json.gz’ saved [5281662/5281662]\n",
      "\n"
     ]
    }
   ],
   "source": [
    "data_dir = 'raw_data'\n",
    "!mkdir $data_dir\n",
    "\n",
    "!cd $data_dir && \\\n",
    "    wget http://deepyeti.ucsd.edu/jianmo/amazon/categoryFiles/Prime_Pantry.json.gz && \\\n",
    "    wget http://deepyeti.ucsd.edu/jianmo/amazon/metaFiles2/meta_Prime_Pantry.json.gz"
   ]
  },
  {
   "cell_type": "markdown",
   "id": "dd3eaedf",
   "metadata": {},
   "source": [
    "### Load and inspect reviews data\n",
    "\n",
    "We'll start by loading the reviews dataset for the Prime Pantry products and running some commands to see what we have to work with."
   ]
  },
  {
   "cell_type": "code",
   "execution_count": 3,
   "id": "109bdcdd",
   "metadata": {},
   "outputs": [
    {
     "data": {
      "text/html": [
       "<div>\n",
       "<style scoped>\n",
       "    .dataframe tbody tr th:only-of-type {\n",
       "        vertical-align: middle;\n",
       "    }\n",
       "\n",
       "    .dataframe tbody tr th {\n",
       "        vertical-align: top;\n",
       "    }\n",
       "\n",
       "    .dataframe thead th {\n",
       "        text-align: right;\n",
       "    }\n",
       "</style>\n",
       "<table border=\"1\" class=\"dataframe\">\n",
       "  <thead>\n",
       "    <tr style=\"text-align: right;\">\n",
       "      <th></th>\n",
       "      <th>overall</th>\n",
       "      <th>verified</th>\n",
       "      <th>reviewTime</th>\n",
       "      <th>reviewerID</th>\n",
       "      <th>asin</th>\n",
       "      <th>reviewerName</th>\n",
       "      <th>reviewText</th>\n",
       "      <th>summary</th>\n",
       "      <th>unixReviewTime</th>\n",
       "      <th>vote</th>\n",
       "      <th>image</th>\n",
       "      <th>style</th>\n",
       "    </tr>\n",
       "  </thead>\n",
       "  <tbody>\n",
       "    <tr>\n",
       "      <th>0</th>\n",
       "      <td>5</td>\n",
       "      <td>True</td>\n",
       "      <td>12 14, 2014</td>\n",
       "      <td>A1NKJW0TNRVS7O</td>\n",
       "      <td>B0000DIWNZ</td>\n",
       "      <td>Tamara M.</td>\n",
       "      <td>Good clinging</td>\n",
       "      <td>Clings  well</td>\n",
       "      <td>1418515200</td>\n",
       "      <td>NaN</td>\n",
       "      <td>NaN</td>\n",
       "      <td>NaN</td>\n",
       "    </tr>\n",
       "    <tr>\n",
       "      <th>1</th>\n",
       "      <td>4</td>\n",
       "      <td>True</td>\n",
       "      <td>11 20, 2014</td>\n",
       "      <td>A2L6X37E8TFTCC</td>\n",
       "      <td>B0000DIWNZ</td>\n",
       "      <td>Amazon Customer</td>\n",
       "      <td>Fantastic buy and a good plastic wrap.  Even t...</td>\n",
       "      <td>Saran could use more Plus to Cling better.</td>\n",
       "      <td>1416441600</td>\n",
       "      <td>NaN</td>\n",
       "      <td>NaN</td>\n",
       "      <td>NaN</td>\n",
       "    </tr>\n",
       "    <tr>\n",
       "      <th>2</th>\n",
       "      <td>4</td>\n",
       "      <td>True</td>\n",
       "      <td>10 11, 2014</td>\n",
       "      <td>A2WPR4W6V48121</td>\n",
       "      <td>B0000DIWNZ</td>\n",
       "      <td>noname</td>\n",
       "      <td>ok</td>\n",
       "      <td>Four Stars</td>\n",
       "      <td>1412985600</td>\n",
       "      <td>NaN</td>\n",
       "      <td>NaN</td>\n",
       "      <td>NaN</td>\n",
       "    </tr>\n",
       "    <tr>\n",
       "      <th>3</th>\n",
       "      <td>3</td>\n",
       "      <td>False</td>\n",
       "      <td>09 1, 2014</td>\n",
       "      <td>A27EE7X7L29UMU</td>\n",
       "      <td>B0000DIWNZ</td>\n",
       "      <td>ZapNZs</td>\n",
       "      <td>Saran Cling Plus is kind of like most of the C...</td>\n",
       "      <td>The wrap is fantastic, but the dispensing, cut...</td>\n",
       "      <td>1409529600</td>\n",
       "      <td>4</td>\n",
       "      <td>NaN</td>\n",
       "      <td>NaN</td>\n",
       "    </tr>\n",
       "    <tr>\n",
       "      <th>4</th>\n",
       "      <td>4</td>\n",
       "      <td>True</td>\n",
       "      <td>08 10, 2014</td>\n",
       "      <td>A1OWT4YZGB5GV9</td>\n",
       "      <td>B0000DIWNZ</td>\n",
       "      <td>Amy Rogers</td>\n",
       "      <td>This is my go to plastic wrap so there isn't m...</td>\n",
       "      <td>has been doing it's job for years</td>\n",
       "      <td>1407628800</td>\n",
       "      <td>NaN</td>\n",
       "      <td>NaN</td>\n",
       "      <td>NaN</td>\n",
       "    </tr>\n",
       "  </tbody>\n",
       "</table>\n",
       "</div>"
      ],
      "text/plain": [
       "   overall  verified   reviewTime      reviewerID        asin  \\\n",
       "0        5      True  12 14, 2014  A1NKJW0TNRVS7O  B0000DIWNZ   \n",
       "1        4      True  11 20, 2014  A2L6X37E8TFTCC  B0000DIWNZ   \n",
       "2        4      True  10 11, 2014  A2WPR4W6V48121  B0000DIWNZ   \n",
       "3        3     False   09 1, 2014  A27EE7X7L29UMU  B0000DIWNZ   \n",
       "4        4      True  08 10, 2014  A1OWT4YZGB5GV9  B0000DIWNZ   \n",
       "\n",
       "      reviewerName                                         reviewText  \\\n",
       "0        Tamara M.                                      Good clinging   \n",
       "1  Amazon Customer  Fantastic buy and a good plastic wrap.  Even t...   \n",
       "2           noname                                                 ok   \n",
       "3           ZapNZs  Saran Cling Plus is kind of like most of the C...   \n",
       "4       Amy Rogers  This is my go to plastic wrap so there isn't m...   \n",
       "\n",
       "                                             summary  unixReviewTime vote  \\\n",
       "0                                       Clings  well      1418515200  NaN   \n",
       "1         Saran could use more Plus to Cling better.      1416441600  NaN   \n",
       "2                                         Four Stars      1412985600  NaN   \n",
       "3  The wrap is fantastic, but the dispensing, cut...      1409529600    4   \n",
       "4                  has been doing it's job for years      1407628800  NaN   \n",
       "\n",
       "  image style  \n",
       "0   NaN   NaN  \n",
       "1   NaN   NaN  \n",
       "2   NaN   NaN  \n",
       "3   NaN   NaN  \n",
       "4   NaN   NaN  "
      ]
     },
     "execution_count": 3,
     "metadata": {},
     "output_type": "execute_result"
    }
   ],
   "source": [
    "pantry_df = pd.read_json(data_dir + '/Prime_Pantry.json.gz', lines=True, compression='infer')\n",
    "pantry_df.head()"
   ]
  },
  {
   "cell_type": "code",
   "execution_count": 4,
   "id": "bcce3279",
   "metadata": {},
   "outputs": [
    {
     "data": {
      "text/plain": [
       "(471614, 12)"
      ]
     },
     "execution_count": 4,
     "metadata": {},
     "output_type": "execute_result"
    }
   ],
   "source": [
    "pantry_df.shape"
   ]
  },
  {
   "cell_type": "markdown",
   "id": "fc7d6069",
   "metadata": {},
   "source": [
    "What can we learn from this output? There are over 471K reviews and 12 columns of data. The `asin` column is our unique item identifier, `reviewerID` is our unique user identifier, `unixReviewTime` is our timestamp for the review, and `overall` indicates the positivity of the review on a scale of 1-5. We will use this file as the basis for our interactions dataset for Personalize. "
   ]
  },
  {
   "cell_type": "markdown",
   "id": "4b8d538a",
   "metadata": {},
   "source": [
    "### Build and save interactions dataset\n",
    "\n",
    "Let's start building our interactions dataset by narrowing down the rows we want to include. The first step is to isolate only the positive reviews. For this we will assume any reviews with an overall rating of 4 or higher is a positive review. Anything rating of 3 or below are either mediocre or negative reviews."
   ]
  },
  {
   "cell_type": "code",
   "execution_count": 5,
   "id": "dc0094cd",
   "metadata": {},
   "outputs": [
    {
     "data": {
      "text/plain": [
       "(387692, 12)"
      ]
     },
     "execution_count": 5,
     "metadata": {},
     "output_type": "execute_result"
    }
   ],
   "source": [
    "positive_reviews_df = pantry_df[pantry_df['overall'] > 3]\n",
    "positive_reviews_df.shape"
   ]
  },
  {
   "cell_type": "markdown",
   "id": "2c28a173",
   "metadata": {},
   "source": [
    "We're down to 387K positive reviews. Still plenty for training a model in Personalize.\n",
    "\n",
    "Next let's narrow down the dataset to just the columns we need and add an `EVENT_TYPE` column to indicate the type of events we're capturing. Adding an `EVENT_TYPE` column now will make it easier to explore testing real-time events later if you choose to do so (since `eventType` is a required field for the [PutEvents](https://docs.aws.amazon.com/personalize/latest/dg/API_UBS_PutEvents.html) API)."
   ]
  },
  {
   "cell_type": "code",
   "execution_count": 6,
   "id": "d651e2de",
   "metadata": {},
   "outputs": [
    {
     "data": {
      "text/html": [
       "<div>\n",
       "<style scoped>\n",
       "    .dataframe tbody tr th:only-of-type {\n",
       "        vertical-align: middle;\n",
       "    }\n",
       "\n",
       "    .dataframe tbody tr th {\n",
       "        vertical-align: top;\n",
       "    }\n",
       "\n",
       "    .dataframe thead th {\n",
       "        text-align: right;\n",
       "    }\n",
       "</style>\n",
       "<table border=\"1\" class=\"dataframe\">\n",
       "  <thead>\n",
       "    <tr style=\"text-align: right;\">\n",
       "      <th></th>\n",
       "      <th>reviewerID</th>\n",
       "      <th>asin</th>\n",
       "      <th>unixReviewTime</th>\n",
       "      <th>overall</th>\n",
       "      <th>EVENT_TYPE</th>\n",
       "    </tr>\n",
       "  </thead>\n",
       "  <tbody>\n",
       "    <tr>\n",
       "      <th>0</th>\n",
       "      <td>A1NKJW0TNRVS7O</td>\n",
       "      <td>B0000DIWNZ</td>\n",
       "      <td>1418515200</td>\n",
       "      <td>5</td>\n",
       "      <td>reviewed</td>\n",
       "    </tr>\n",
       "    <tr>\n",
       "      <th>1</th>\n",
       "      <td>A2L6X37E8TFTCC</td>\n",
       "      <td>B0000DIWNZ</td>\n",
       "      <td>1416441600</td>\n",
       "      <td>4</td>\n",
       "      <td>reviewed</td>\n",
       "    </tr>\n",
       "    <tr>\n",
       "      <th>2</th>\n",
       "      <td>A2WPR4W6V48121</td>\n",
       "      <td>B0000DIWNZ</td>\n",
       "      <td>1412985600</td>\n",
       "      <td>4</td>\n",
       "      <td>reviewed</td>\n",
       "    </tr>\n",
       "    <tr>\n",
       "      <th>4</th>\n",
       "      <td>A1OWT4YZGB5GV9</td>\n",
       "      <td>B0000DIWNZ</td>\n",
       "      <td>1407628800</td>\n",
       "      <td>4</td>\n",
       "      <td>reviewed</td>\n",
       "    </tr>\n",
       "    <tr>\n",
       "      <th>5</th>\n",
       "      <td>A1GN2ADKF1IE7K</td>\n",
       "      <td>B0000DIWNZ</td>\n",
       "      <td>1405296000</td>\n",
       "      <td>5</td>\n",
       "      <td>reviewed</td>\n",
       "    </tr>\n",
       "  </tbody>\n",
       "</table>\n",
       "</div>"
      ],
      "text/plain": [
       "       reviewerID        asin  unixReviewTime  overall EVENT_TYPE\n",
       "0  A1NKJW0TNRVS7O  B0000DIWNZ      1418515200        5   reviewed\n",
       "1  A2L6X37E8TFTCC  B0000DIWNZ      1416441600        4   reviewed\n",
       "2  A2WPR4W6V48121  B0000DIWNZ      1412985600        4   reviewed\n",
       "4  A1OWT4YZGB5GV9  B0000DIWNZ      1407628800        4   reviewed\n",
       "5  A1GN2ADKF1IE7K  B0000DIWNZ      1405296000        5   reviewed"
      ]
     },
     "execution_count": 6,
     "metadata": {},
     "output_type": "execute_result"
    }
   ],
   "source": [
    "positive_reviews_df = positive_reviews_df[['reviewerID', 'asin', 'unixReviewTime', 'overall']]\n",
    "positive_reviews_df['EVENT_TYPE']='reviewed'\n",
    "\n",
    "positive_reviews_df.head()"
   ]
  },
  {
   "cell_type": "markdown",
   "id": "82003138",
   "metadata": {},
   "source": [
    "One last check we should do is sanity check a `unixReviewTime` column value. Since Personalize builds sequence models based on the date and time of each interaction, it's important that the timestamp of each interaction is represented in the expected format so that it is interpreted correctly.\n",
    "\n",
    "Let's pick a value for the `unixReviewTime` column and parse it into a human-readable date so we can verify that it's reasonable."
   ]
  },
  {
   "cell_type": "code",
   "execution_count": 7,
   "id": "c4bc54aa",
   "metadata": {},
   "outputs": [
    {
     "name": "stdout",
     "output_type": "stream",
     "text": [
      "1321488000\n",
      "2011-11-17 00:00:00\n"
     ]
    }
   ],
   "source": [
    "time_stamp = positive_reviews_df.iloc[50]['unixReviewTime']\n",
    "print(time_stamp)\n",
    "print(datetime.utcfromtimestamp(time_stamp).strftime('%Y-%m-%d %H:%M:%S'))"
   ]
  },
  {
   "cell_type": "markdown",
   "id": "d56632fc",
   "metadata": {},
   "source": [
    "The timestamp value looks good. Let's get some final summary information for our dataset."
   ]
  },
  {
   "cell_type": "code",
   "execution_count": 8,
   "id": "422b6882",
   "metadata": {},
   "outputs": [
    {
     "data": {
      "text/html": [
       "<div>\n",
       "<style scoped>\n",
       "    .dataframe tbody tr th:only-of-type {\n",
       "        vertical-align: middle;\n",
       "    }\n",
       "\n",
       "    .dataframe tbody tr th {\n",
       "        vertical-align: top;\n",
       "    }\n",
       "\n",
       "    .dataframe thead th {\n",
       "        text-align: right;\n",
       "    }\n",
       "</style>\n",
       "<table border=\"1\" class=\"dataframe\">\n",
       "  <thead>\n",
       "    <tr style=\"text-align: right;\">\n",
       "      <th></th>\n",
       "      <th>reviewerID</th>\n",
       "      <th>asin</th>\n",
       "      <th>unixReviewTime</th>\n",
       "      <th>overall</th>\n",
       "      <th>EVENT_TYPE</th>\n",
       "    </tr>\n",
       "  </thead>\n",
       "  <tbody>\n",
       "    <tr>\n",
       "      <th>count</th>\n",
       "      <td>387692</td>\n",
       "      <td>387692</td>\n",
       "      <td>3.876920e+05</td>\n",
       "      <td>387692.000000</td>\n",
       "      <td>387692</td>\n",
       "    </tr>\n",
       "    <tr>\n",
       "      <th>unique</th>\n",
       "      <td>202254</td>\n",
       "      <td>10584</td>\n",
       "      <td>NaN</td>\n",
       "      <td>NaN</td>\n",
       "      <td>1</td>\n",
       "    </tr>\n",
       "    <tr>\n",
       "      <th>top</th>\n",
       "      <td>A35Q0RBM3YNQNF</td>\n",
       "      <td>B00XA9DADC</td>\n",
       "      <td>NaN</td>\n",
       "      <td>NaN</td>\n",
       "      <td>reviewed</td>\n",
       "    </tr>\n",
       "    <tr>\n",
       "      <th>freq</th>\n",
       "      <td>176</td>\n",
       "      <td>5288</td>\n",
       "      <td>NaN</td>\n",
       "      <td>NaN</td>\n",
       "      <td>387692</td>\n",
       "    </tr>\n",
       "    <tr>\n",
       "      <th>mean</th>\n",
       "      <td>NaN</td>\n",
       "      <td>NaN</td>\n",
       "      <td>1.468847e+09</td>\n",
       "      <td>4.847227</td>\n",
       "      <td>NaN</td>\n",
       "    </tr>\n",
       "    <tr>\n",
       "      <th>std</th>\n",
       "      <td>NaN</td>\n",
       "      <td>NaN</td>\n",
       "      <td>4.314975e+07</td>\n",
       "      <td>0.359769</td>\n",
       "      <td>NaN</td>\n",
       "    </tr>\n",
       "    <tr>\n",
       "      <th>min</th>\n",
       "      <td>NaN</td>\n",
       "      <td>NaN</td>\n",
       "      <td>1.073693e+09</td>\n",
       "      <td>4.000000</td>\n",
       "      <td>NaN</td>\n",
       "    </tr>\n",
       "    <tr>\n",
       "      <th>25%</th>\n",
       "      <td>NaN</td>\n",
       "      <td>NaN</td>\n",
       "      <td>1.447200e+09</td>\n",
       "      <td>5.000000</td>\n",
       "      <td>NaN</td>\n",
       "    </tr>\n",
       "    <tr>\n",
       "      <th>50%</th>\n",
       "      <td>NaN</td>\n",
       "      <td>NaN</td>\n",
       "      <td>1.474718e+09</td>\n",
       "      <td>5.000000</td>\n",
       "      <td>NaN</td>\n",
       "    </tr>\n",
       "    <tr>\n",
       "      <th>75%</th>\n",
       "      <td>NaN</td>\n",
       "      <td>NaN</td>\n",
       "      <td>1.498435e+09</td>\n",
       "      <td>5.000000</td>\n",
       "      <td>NaN</td>\n",
       "    </tr>\n",
       "    <tr>\n",
       "      <th>max</th>\n",
       "      <td>NaN</td>\n",
       "      <td>NaN</td>\n",
       "      <td>1.538611e+09</td>\n",
       "      <td>5.000000</td>\n",
       "      <td>NaN</td>\n",
       "    </tr>\n",
       "  </tbody>\n",
       "</table>\n",
       "</div>"
      ],
      "text/plain": [
       "            reviewerID        asin  unixReviewTime        overall EVENT_TYPE\n",
       "count           387692      387692    3.876920e+05  387692.000000     387692\n",
       "unique          202254       10584             NaN            NaN          1\n",
       "top     A35Q0RBM3YNQNF  B00XA9DADC             NaN            NaN   reviewed\n",
       "freq               176        5288             NaN            NaN     387692\n",
       "mean               NaN         NaN    1.468847e+09       4.847227        NaN\n",
       "std                NaN         NaN    4.314975e+07       0.359769        NaN\n",
       "min                NaN         NaN    1.073693e+09       4.000000        NaN\n",
       "25%                NaN         NaN    1.447200e+09       5.000000        NaN\n",
       "50%                NaN         NaN    1.474718e+09       5.000000        NaN\n",
       "75%                NaN         NaN    1.498435e+09       5.000000        NaN\n",
       "max                NaN         NaN    1.538611e+09       5.000000        NaN"
      ]
     },
     "execution_count": 8,
     "metadata": {},
     "output_type": "execute_result"
    }
   ],
   "source": [
    "positive_reviews_df.describe(include='all')"
   ]
  },
  {
   "cell_type": "markdown",
   "id": "f0b1ff2d",
   "metadata": {},
   "source": [
    "We have 387K reviews for 202K distinct reviewers/users across 10K unique products. This is basis of our interactions dataset.\n",
    "\n",
    "Before we can use this as our interactions dataset, though, we need to rename the columns to match those expected by Personalize."
   ]
  },
  {
   "cell_type": "code",
   "execution_count": 9,
   "id": "7ac17350",
   "metadata": {},
   "outputs": [
    {
     "data": {
      "text/html": [
       "<div>\n",
       "<style scoped>\n",
       "    .dataframe tbody tr th:only-of-type {\n",
       "        vertical-align: middle;\n",
       "    }\n",
       "\n",
       "    .dataframe tbody tr th {\n",
       "        vertical-align: top;\n",
       "    }\n",
       "\n",
       "    .dataframe thead th {\n",
       "        text-align: right;\n",
       "    }\n",
       "</style>\n",
       "<table border=\"1\" class=\"dataframe\">\n",
       "  <thead>\n",
       "    <tr style=\"text-align: right;\">\n",
       "      <th></th>\n",
       "      <th>USER_ID</th>\n",
       "      <th>ITEM_ID</th>\n",
       "      <th>TIMESTAMP</th>\n",
       "      <th>EVENT_VALUE</th>\n",
       "      <th>EVENT_TYPE</th>\n",
       "    </tr>\n",
       "  </thead>\n",
       "  <tbody>\n",
       "    <tr>\n",
       "      <th>0</th>\n",
       "      <td>A1NKJW0TNRVS7O</td>\n",
       "      <td>B0000DIWNZ</td>\n",
       "      <td>1418515200</td>\n",
       "      <td>5</td>\n",
       "      <td>reviewed</td>\n",
       "    </tr>\n",
       "    <tr>\n",
       "      <th>1</th>\n",
       "      <td>A2L6X37E8TFTCC</td>\n",
       "      <td>B0000DIWNZ</td>\n",
       "      <td>1416441600</td>\n",
       "      <td>4</td>\n",
       "      <td>reviewed</td>\n",
       "    </tr>\n",
       "    <tr>\n",
       "      <th>2</th>\n",
       "      <td>A2WPR4W6V48121</td>\n",
       "      <td>B0000DIWNZ</td>\n",
       "      <td>1412985600</td>\n",
       "      <td>4</td>\n",
       "      <td>reviewed</td>\n",
       "    </tr>\n",
       "    <tr>\n",
       "      <th>4</th>\n",
       "      <td>A1OWT4YZGB5GV9</td>\n",
       "      <td>B0000DIWNZ</td>\n",
       "      <td>1407628800</td>\n",
       "      <td>4</td>\n",
       "      <td>reviewed</td>\n",
       "    </tr>\n",
       "    <tr>\n",
       "      <th>5</th>\n",
       "      <td>A1GN2ADKF1IE7K</td>\n",
       "      <td>B0000DIWNZ</td>\n",
       "      <td>1405296000</td>\n",
       "      <td>5</td>\n",
       "      <td>reviewed</td>\n",
       "    </tr>\n",
       "    <tr>\n",
       "      <th>...</th>\n",
       "      <td>...</td>\n",
       "      <td>...</td>\n",
       "      <td>...</td>\n",
       "      <td>...</td>\n",
       "      <td>...</td>\n",
       "    </tr>\n",
       "    <tr>\n",
       "      <th>471609</th>\n",
       "      <td>A19GSVHXVT5NNF</td>\n",
       "      <td>B01HI8JVI8</td>\n",
       "      <td>1494892800</td>\n",
       "      <td>5</td>\n",
       "      <td>reviewed</td>\n",
       "    </tr>\n",
       "    <tr>\n",
       "      <th>471610</th>\n",
       "      <td>ABSCTKLX9F9IU</td>\n",
       "      <td>B01HI8JVI8</td>\n",
       "      <td>1493769600</td>\n",
       "      <td>5</td>\n",
       "      <td>reviewed</td>\n",
       "    </tr>\n",
       "    <tr>\n",
       "      <th>471611</th>\n",
       "      <td>A2R33RCWKDHZ3L</td>\n",
       "      <td>B01HI8JVI8</td>\n",
       "      <td>1492646400</td>\n",
       "      <td>5</td>\n",
       "      <td>reviewed</td>\n",
       "    </tr>\n",
       "    <tr>\n",
       "      <th>471612</th>\n",
       "      <td>A2INGHYEXZDHMC</td>\n",
       "      <td>B01HI8JVI8</td>\n",
       "      <td>1492560000</td>\n",
       "      <td>5</td>\n",
       "      <td>reviewed</td>\n",
       "    </tr>\n",
       "    <tr>\n",
       "      <th>471613</th>\n",
       "      <td>AJ8M6GVFGIRLS</td>\n",
       "      <td>B01HI8JVI8</td>\n",
       "      <td>1487808000</td>\n",
       "      <td>5</td>\n",
       "      <td>reviewed</td>\n",
       "    </tr>\n",
       "  </tbody>\n",
       "</table>\n",
       "<p>387692 rows × 5 columns</p>\n",
       "</div>"
      ],
      "text/plain": [
       "               USER_ID     ITEM_ID   TIMESTAMP  EVENT_VALUE EVENT_TYPE\n",
       "0       A1NKJW0TNRVS7O  B0000DIWNZ  1418515200            5   reviewed\n",
       "1       A2L6X37E8TFTCC  B0000DIWNZ  1416441600            4   reviewed\n",
       "2       A2WPR4W6V48121  B0000DIWNZ  1412985600            4   reviewed\n",
       "4       A1OWT4YZGB5GV9  B0000DIWNZ  1407628800            4   reviewed\n",
       "5       A1GN2ADKF1IE7K  B0000DIWNZ  1405296000            5   reviewed\n",
       "...                ...         ...         ...          ...        ...\n",
       "471609  A19GSVHXVT5NNF  B01HI8JVI8  1494892800            5   reviewed\n",
       "471610   ABSCTKLX9F9IU  B01HI8JVI8  1493769600            5   reviewed\n",
       "471611  A2R33RCWKDHZ3L  B01HI8JVI8  1492646400            5   reviewed\n",
       "471612  A2INGHYEXZDHMC  B01HI8JVI8  1492560000            5   reviewed\n",
       "471613   AJ8M6GVFGIRLS  B01HI8JVI8  1487808000            5   reviewed\n",
       "\n",
       "[387692 rows x 5 columns]"
      ]
     },
     "execution_count": 9,
     "metadata": {},
     "output_type": "execute_result"
    }
   ],
   "source": [
    "positive_reviews_df.rename(columns = {'reviewerID':'USER_ID', 'asin':'ITEM_ID', \n",
    "                              'unixReviewTime':'TIMESTAMP', 'overall': 'EVENT_VALUE'}, inplace = True)\n",
    "positive_reviews_df"
   ]
  },
  {
   "cell_type": "markdown",
   "id": "d46320a4",
   "metadata": {},
   "source": [
    "Finally, let's save our positive reviews dataframe as a CSV. We'll upload this CSV to Personalize later in this notebook."
   ]
  },
  {
   "cell_type": "code",
   "execution_count": 10,
   "id": "37959b9d",
   "metadata": {},
   "outputs": [],
   "source": [
    "interactions_filename = \"interactions.csv\"\n",
    "positive_reviews_df.to_csv(interactions_filename, index=False, float_format='%.0f')"
   ]
  },
  {
   "cell_type": "markdown",
   "id": "c6c52b9e",
   "metadata": {},
   "source": [
    "### Load and inspect item metadata\n",
    "\n",
    "Now that we have the interactions dataset established, let's turn to the items dataset. This is where we will find the unstructured text value that we will include in the model.\n",
    "\n",
    "Like the reviews dataset, the Prime Pantry item metadata file is also represented in JSON. Due to the nested nature of this file, this will present some challenges in getting our data formatted the way we need it.\n",
    "\n",
    "Let's start by loading the metadata file into a dataframe and taking a look the data."
   ]
  },
  {
   "cell_type": "code",
   "execution_count": 11,
   "id": "cb845974",
   "metadata": {},
   "outputs": [
    {
     "data": {
      "text/html": [
       "<div>\n",
       "<style scoped>\n",
       "    .dataframe tbody tr th:only-of-type {\n",
       "        vertical-align: middle;\n",
       "    }\n",
       "\n",
       "    .dataframe tbody tr th {\n",
       "        vertical-align: top;\n",
       "    }\n",
       "\n",
       "    .dataframe thead th {\n",
       "        text-align: right;\n",
       "    }\n",
       "</style>\n",
       "<table border=\"1\" class=\"dataframe\">\n",
       "  <thead>\n",
       "    <tr style=\"text-align: right;\">\n",
       "      <th></th>\n",
       "      <th>category</th>\n",
       "      <th>tech1</th>\n",
       "      <th>description</th>\n",
       "      <th>fit</th>\n",
       "      <th>title</th>\n",
       "      <th>also_buy</th>\n",
       "      <th>tech2</th>\n",
       "      <th>brand</th>\n",
       "      <th>feature</th>\n",
       "      <th>rank</th>\n",
       "      <th>also_view</th>\n",
       "      <th>details</th>\n",
       "      <th>main_cat</th>\n",
       "      <th>similar_item</th>\n",
       "      <th>date</th>\n",
       "      <th>price</th>\n",
       "      <th>asin</th>\n",
       "      <th>imageURL</th>\n",
       "      <th>imageURLHighRes</th>\n",
       "    </tr>\n",
       "  </thead>\n",
       "  <tbody>\n",
       "    <tr>\n",
       "      <th>0</th>\n",
       "      <td>[]</td>\n",
       "      <td></td>\n",
       "      <td>[Sink your sweet tooth into MILK DUDS Candya d...</td>\n",
       "      <td></td>\n",
       "      <td>HERSHEY'S Milk Duds Candy, 5 Ounce(Halloween C...</td>\n",
       "      <td>[B019KE37WO, B007NQSWEU]</td>\n",
       "      <td></td>\n",
       "      <td>Milk Duds</td>\n",
       "      <td>[]</td>\n",
       "      <td>[]</td>\n",
       "      <td>[]</td>\n",
       "      <td>{'ASIN: ': 'B00005BPJO', 'Item model number:':...</td>\n",
       "      <td>&lt;img src=\"https://m.media-amazon.com/images/G/...</td>\n",
       "      <td></td>\n",
       "      <td>NaT</td>\n",
       "      <td>$5.00</td>\n",
       "      <td>B00005BPJO</td>\n",
       "      <td>[https://images-na.ssl-images-amazon.com/image...</td>\n",
       "      <td>[https://images-na.ssl-images-amazon.com/image...</td>\n",
       "    </tr>\n",
       "    <tr>\n",
       "      <th>1</th>\n",
       "      <td>[]</td>\n",
       "      <td></td>\n",
       "      <td>[Sink your sweet tooth into MILK DUDS Candya d...</td>\n",
       "      <td></td>\n",
       "      <td>HERSHEY'S Milk Duds Candy, 5 Ounce(Halloween C...</td>\n",
       "      <td>[B019KE37WO, B007NQSWEU]</td>\n",
       "      <td></td>\n",
       "      <td>Milk Duds</td>\n",
       "      <td>[]</td>\n",
       "      <td>[]</td>\n",
       "      <td>[]</td>\n",
       "      <td>{'ASIN: ': 'B00005BPJO', 'Item model number:':...</td>\n",
       "      <td>&lt;img src=\"https://m.media-amazon.com/images/G/...</td>\n",
       "      <td></td>\n",
       "      <td>NaT</td>\n",
       "      <td>$5.00</td>\n",
       "      <td>B00005BPJO</td>\n",
       "      <td>[https://images-na.ssl-images-amazon.com/image...</td>\n",
       "      <td>[https://images-na.ssl-images-amazon.com/image...</td>\n",
       "    </tr>\n",
       "    <tr>\n",
       "      <th>2</th>\n",
       "      <td>[]</td>\n",
       "      <td></td>\n",
       "      <td>[A perfect Lentil soup starts with Goya Lentil...</td>\n",
       "      <td></td>\n",
       "      <td>Goya Dry Lentils, 16 oz</td>\n",
       "      <td>[B003SI144W, B000VDRKEK]</td>\n",
       "      <td></td>\n",
       "      <td>Goya</td>\n",
       "      <td>[]</td>\n",
       "      <td>[]</td>\n",
       "      <td>[B074MFVZG7, B079PTH69L, B000VDRKEK, B074M9T81...</td>\n",
       "      <td>{'ASIN: ': 'B0000DIF38'}</td>\n",
       "      <td>&lt;img src=\"https://images-na.ssl-images-amazon....</td>\n",
       "      <td></td>\n",
       "      <td>NaT</td>\n",
       "      <td></td>\n",
       "      <td>B0000DIF38</td>\n",
       "      <td>[https://images-na.ssl-images-amazon.com/image...</td>\n",
       "      <td>[https://images-na.ssl-images-amazon.com/image...</td>\n",
       "    </tr>\n",
       "    <tr>\n",
       "      <th>3</th>\n",
       "      <td>[]</td>\n",
       "      <td></td>\n",
       "      <td>[Saran Premium Wrap is an extra tough yet easy...</td>\n",
       "      <td></td>\n",
       "      <td>Saran Premium Plastic Wrap, 100 Sq Ft</td>\n",
       "      <td>[B01MY5FHT6, B000PYF8VM, B000SRMDFA, B07CX6LN8...</td>\n",
       "      <td></td>\n",
       "      <td>Saran</td>\n",
       "      <td>[]</td>\n",
       "      <td>[]</td>\n",
       "      <td>[B077QLSLRQ, B00JPKW1RQ, B000FE2IK6, B00XUJHJ9...</td>\n",
       "      <td>{'Domestic Shipping: ': 'This item can only be...</td>\n",
       "      <td>&lt;img src=\"https://images-na.ssl-images-amazon....</td>\n",
       "      <td></td>\n",
       "      <td>NaT</td>\n",
       "      <td></td>\n",
       "      <td>B0000DIWNI</td>\n",
       "      <td>[https://images-na.ssl-images-amazon.com/image...</td>\n",
       "      <td>[https://images-na.ssl-images-amazon.com/image...</td>\n",
       "    </tr>\n",
       "    <tr>\n",
       "      <th>4</th>\n",
       "      <td>[]</td>\n",
       "      <td></td>\n",
       "      <td>[200 sq ft (285 ft x 11-3/4 in x 18.6 m2). Eas...</td>\n",
       "      <td></td>\n",
       "      <td>Saran Cling Plus Plastic Wrap, 200 Sq Ft</td>\n",
       "      <td>[]</td>\n",
       "      <td></td>\n",
       "      <td>Saran</td>\n",
       "      <td>[]</td>\n",
       "      <td>[]</td>\n",
       "      <td>[B0014CZ0TE]</td>\n",
       "      <td>{'Domestic Shipping: ': 'This item can only be...</td>\n",
       "      <td>&lt;img src=\"https://images-na.ssl-images-amazon....</td>\n",
       "      <td></td>\n",
       "      <td>NaT</td>\n",
       "      <td></td>\n",
       "      <td>B0000DIWNZ</td>\n",
       "      <td>[https://images-na.ssl-images-amazon.com/image...</td>\n",
       "      <td>[https://images-na.ssl-images-amazon.com/image...</td>\n",
       "    </tr>\n",
       "    <tr>\n",
       "      <th>...</th>\n",
       "      <td>...</td>\n",
       "      <td>...</td>\n",
       "      <td>...</td>\n",
       "      <td>...</td>\n",
       "      <td>...</td>\n",
       "      <td>...</td>\n",
       "      <td>...</td>\n",
       "      <td>...</td>\n",
       "      <td>...</td>\n",
       "      <td>...</td>\n",
       "      <td>...</td>\n",
       "      <td>...</td>\n",
       "      <td>...</td>\n",
       "      <td>...</td>\n",
       "      <td>...</td>\n",
       "      <td>...</td>\n",
       "      <td>...</td>\n",
       "      <td>...</td>\n",
       "      <td>...</td>\n",
       "    </tr>\n",
       "    <tr>\n",
       "      <th>10808</th>\n",
       "      <td>[]</td>\n",
       "      <td></td>\n",
       "      <td>[These bars are where our journey started and ...</td>\n",
       "      <td></td>\n",
       "      <td>KIND Bars, Caramel Almond &amp;amp; Sea Salt, Glut...</td>\n",
       "      <td>[]</td>\n",
       "      <td></td>\n",
       "      <td>KIND</td>\n",
       "      <td>[]</td>\n",
       "      <td>26,259 in Grocery &amp; Gourmet Food (</td>\n",
       "      <td>[B00JQQAN60, B00JQQAWSY, B0111K7V54, B0111K8L9...</td>\n",
       "      <td>{'ASIN: ': 'B01HI76312', 'Item model number:':...</td>\n",
       "      <td>&lt;img src=\"https://images-na.ssl-images-amazon....</td>\n",
       "      <td></td>\n",
       "      <td>NaT</td>\n",
       "      <td>$3.98</td>\n",
       "      <td>B01HI76312</td>\n",
       "      <td>[https://images-na.ssl-images-amazon.com/image...</td>\n",
       "      <td>[https://images-na.ssl-images-amazon.com/image...</td>\n",
       "    </tr>\n",
       "    <tr>\n",
       "      <th>10809</th>\n",
       "      <td>[]</td>\n",
       "      <td></td>\n",
       "      <td>[These bars are where our journey started and ...</td>\n",
       "      <td></td>\n",
       "      <td>KIND Bars, Maple Glazed Pecan &amp;amp; Sea Salt, ...</td>\n",
       "      <td>[]</td>\n",
       "      <td></td>\n",
       "      <td>KIND</td>\n",
       "      <td>[]</td>\n",
       "      <td>16,822 in Grocery &amp; Gourmet Food (</td>\n",
       "      <td>[B0111K97JC, B00JQQAN60, B0111K8L9Y, B01HI7631...</td>\n",
       "      <td>{'ASIN: ': 'B01HI76790'}</td>\n",
       "      <td>&lt;img src=\"https://images-na.ssl-images-amazon....</td>\n",
       "      <td></td>\n",
       "      <td>NaT</td>\n",
       "      <td>$5.81</td>\n",
       "      <td>B01HI76790</td>\n",
       "      <td>[https://images-na.ssl-images-amazon.com/image...</td>\n",
       "      <td>[https://images-na.ssl-images-amazon.com/image...</td>\n",
       "    </tr>\n",
       "    <tr>\n",
       "      <th>10810</th>\n",
       "      <td>[]</td>\n",
       "      <td></td>\n",
       "      <td>[These bars are where our journey started and ...</td>\n",
       "      <td></td>\n",
       "      <td>KIND Bars, Dark Chocolate Almond &amp;amp; Coconut...</td>\n",
       "      <td>[]</td>\n",
       "      <td></td>\n",
       "      <td>KIND</td>\n",
       "      <td>[]</td>\n",
       "      <td>107,057 in Grocery &amp; Gourmet Food (</td>\n",
       "      <td>[B0111K7V54, B01HI76312, B00JQQAL0S, B0111K97J...</td>\n",
       "      <td>{'ASIN: ': 'B01HI76SA8'}</td>\n",
       "      <td>&lt;img src=\"https://images-na.ssl-images-amazon....</td>\n",
       "      <td></td>\n",
       "      <td>NaT</td>\n",
       "      <td>$4.98</td>\n",
       "      <td>B01HI76SA8</td>\n",
       "      <td>[]</td>\n",
       "      <td>[]</td>\n",
       "    </tr>\n",
       "    <tr>\n",
       "      <th>10811</th>\n",
       "      <td>[]</td>\n",
       "      <td></td>\n",
       "      <td>[These bars are where our journey started and ...</td>\n",
       "      <td></td>\n",
       "      <td>KIND Bars, Honey Roasted Nuts &amp;amp; Sea Salt, ...</td>\n",
       "      <td>[]</td>\n",
       "      <td></td>\n",
       "      <td>KIND</td>\n",
       "      <td>[]</td>\n",
       "      <td>24,648 in Grocery &amp; Gourmet Food (</td>\n",
       "      <td>[B00JQQAN60, B0111K7V54, B01HI76312, B0111K97J...</td>\n",
       "      <td>{'ASIN: ': 'B01HI76XS0'}</td>\n",
       "      <td>&lt;img src=\"https://images-na.ssl-images-amazon....</td>\n",
       "      <td></td>\n",
       "      <td>NaT</td>\n",
       "      <td>$5.81</td>\n",
       "      <td>B01HI76XS0</td>\n",
       "      <td>[https://images-na.ssl-images-amazon.com/image...</td>\n",
       "      <td>[https://images-na.ssl-images-amazon.com/image...</td>\n",
       "    </tr>\n",
       "    <tr>\n",
       "      <th>10812</th>\n",
       "      <td>[]</td>\n",
       "      <td></td>\n",
       "      <td>[Delicious, crowd pleasing and convenient it c...</td>\n",
       "      <td></td>\n",
       "      <td>Tostitos Salsa, Mild, 69 Ounce</td>\n",
       "      <td>[B00ID0EBP4, B00ID0EB1S, B00N0WZSOS, B00IAE65L...</td>\n",
       "      <td></td>\n",
       "      <td>Tostitos</td>\n",
       "      <td>[]</td>\n",
       "      <td>259,965 in Grocery &amp; Gourmet Food (</td>\n",
       "      <td>[]</td>\n",
       "      <td>{'ASIN: ': 'B01HI8JVI8'}</td>\n",
       "      <td>&lt;img src=\"https://images-na.ssl-images-amazon....</td>\n",
       "      <td></td>\n",
       "      <td>NaT</td>\n",
       "      <td>$6.82</td>\n",
       "      <td>B01HI8JVI8</td>\n",
       "      <td>[]</td>\n",
       "      <td>[]</td>\n",
       "    </tr>\n",
       "  </tbody>\n",
       "</table>\n",
       "<p>10813 rows × 19 columns</p>\n",
       "</div>"
      ],
      "text/plain": [
       "      category tech1                                        description fit  \\\n",
       "0           []        [Sink your sweet tooth into MILK DUDS Candya d...       \n",
       "1           []        [Sink your sweet tooth into MILK DUDS Candya d...       \n",
       "2           []        [A perfect Lentil soup starts with Goya Lentil...       \n",
       "3           []        [Saran Premium Wrap is an extra tough yet easy...       \n",
       "4           []        [200 sq ft (285 ft x 11-3/4 in x 18.6 m2). Eas...       \n",
       "...        ...   ...                                                ...  ..   \n",
       "10808       []        [These bars are where our journey started and ...       \n",
       "10809       []        [These bars are where our journey started and ...       \n",
       "10810       []        [These bars are where our journey started and ...       \n",
       "10811       []        [These bars are where our journey started and ...       \n",
       "10812       []        [Delicious, crowd pleasing and convenient it c...       \n",
       "\n",
       "                                                   title  \\\n",
       "0      HERSHEY'S Milk Duds Candy, 5 Ounce(Halloween C...   \n",
       "1      HERSHEY'S Milk Duds Candy, 5 Ounce(Halloween C...   \n",
       "2                                Goya Dry Lentils, 16 oz   \n",
       "3                  Saran Premium Plastic Wrap, 100 Sq Ft   \n",
       "4               Saran Cling Plus Plastic Wrap, 200 Sq Ft   \n",
       "...                                                  ...   \n",
       "10808  KIND Bars, Caramel Almond &amp; Sea Salt, Glut...   \n",
       "10809  KIND Bars, Maple Glazed Pecan &amp; Sea Salt, ...   \n",
       "10810  KIND Bars, Dark Chocolate Almond &amp; Coconut...   \n",
       "10811  KIND Bars, Honey Roasted Nuts &amp; Sea Salt, ...   \n",
       "10812                     Tostitos Salsa, Mild, 69 Ounce   \n",
       "\n",
       "                                                also_buy tech2      brand  \\\n",
       "0                               [B019KE37WO, B007NQSWEU]        Milk Duds   \n",
       "1                               [B019KE37WO, B007NQSWEU]        Milk Duds   \n",
       "2                               [B003SI144W, B000VDRKEK]             Goya   \n",
       "3      [B01MY5FHT6, B000PYF8VM, B000SRMDFA, B07CX6LN8...            Saran   \n",
       "4                                                     []            Saran   \n",
       "...                                                  ...   ...        ...   \n",
       "10808                                                 []             KIND   \n",
       "10809                                                 []             KIND   \n",
       "10810                                                 []             KIND   \n",
       "10811                                                 []             KIND   \n",
       "10812  [B00ID0EBP4, B00ID0EB1S, B00N0WZSOS, B00IAE65L...         Tostitos   \n",
       "\n",
       "      feature                                 rank  \\\n",
       "0          []                                   []   \n",
       "1          []                                   []   \n",
       "2          []                                   []   \n",
       "3          []                                   []   \n",
       "4          []                                   []   \n",
       "...       ...                                  ...   \n",
       "10808      []   26,259 in Grocery & Gourmet Food (   \n",
       "10809      []   16,822 in Grocery & Gourmet Food (   \n",
       "10810      []  107,057 in Grocery & Gourmet Food (   \n",
       "10811      []   24,648 in Grocery & Gourmet Food (   \n",
       "10812      []  259,965 in Grocery & Gourmet Food (   \n",
       "\n",
       "                                               also_view  \\\n",
       "0                                                     []   \n",
       "1                                                     []   \n",
       "2      [B074MFVZG7, B079PTH69L, B000VDRKEK, B074M9T81...   \n",
       "3      [B077QLSLRQ, B00JPKW1RQ, B000FE2IK6, B00XUJHJ9...   \n",
       "4                                           [B0014CZ0TE]   \n",
       "...                                                  ...   \n",
       "10808  [B00JQQAN60, B00JQQAWSY, B0111K7V54, B0111K8L9...   \n",
       "10809  [B0111K97JC, B00JQQAN60, B0111K8L9Y, B01HI7631...   \n",
       "10810  [B0111K7V54, B01HI76312, B00JQQAL0S, B0111K97J...   \n",
       "10811  [B00JQQAN60, B0111K7V54, B01HI76312, B0111K97J...   \n",
       "10812                                                 []   \n",
       "\n",
       "                                                 details  \\\n",
       "0      {'ASIN: ': 'B00005BPJO', 'Item model number:':...   \n",
       "1      {'ASIN: ': 'B00005BPJO', 'Item model number:':...   \n",
       "2                               {'ASIN: ': 'B0000DIF38'}   \n",
       "3      {'Domestic Shipping: ': 'This item can only be...   \n",
       "4      {'Domestic Shipping: ': 'This item can only be...   \n",
       "...                                                  ...   \n",
       "10808  {'ASIN: ': 'B01HI76312', 'Item model number:':...   \n",
       "10809                           {'ASIN: ': 'B01HI76790'}   \n",
       "10810                           {'ASIN: ': 'B01HI76SA8'}   \n",
       "10811                           {'ASIN: ': 'B01HI76XS0'}   \n",
       "10812                           {'ASIN: ': 'B01HI8JVI8'}   \n",
       "\n",
       "                                                main_cat similar_item date  \\\n",
       "0      <img src=\"https://m.media-amazon.com/images/G/...               NaT   \n",
       "1      <img src=\"https://m.media-amazon.com/images/G/...               NaT   \n",
       "2      <img src=\"https://images-na.ssl-images-amazon....               NaT   \n",
       "3      <img src=\"https://images-na.ssl-images-amazon....               NaT   \n",
       "4      <img src=\"https://images-na.ssl-images-amazon....               NaT   \n",
       "...                                                  ...          ...  ...   \n",
       "10808  <img src=\"https://images-na.ssl-images-amazon....               NaT   \n",
       "10809  <img src=\"https://images-na.ssl-images-amazon....               NaT   \n",
       "10810  <img src=\"https://images-na.ssl-images-amazon....               NaT   \n",
       "10811  <img src=\"https://images-na.ssl-images-amazon....               NaT   \n",
       "10812  <img src=\"https://images-na.ssl-images-amazon....               NaT   \n",
       "\n",
       "       price        asin                                           imageURL  \\\n",
       "0      $5.00  B00005BPJO  [https://images-na.ssl-images-amazon.com/image...   \n",
       "1      $5.00  B00005BPJO  [https://images-na.ssl-images-amazon.com/image...   \n",
       "2             B0000DIF38  [https://images-na.ssl-images-amazon.com/image...   \n",
       "3             B0000DIWNI  [https://images-na.ssl-images-amazon.com/image...   \n",
       "4             B0000DIWNZ  [https://images-na.ssl-images-amazon.com/image...   \n",
       "...      ...         ...                                                ...   \n",
       "10808  $3.98  B01HI76312  [https://images-na.ssl-images-amazon.com/image...   \n",
       "10809  $5.81  B01HI76790  [https://images-na.ssl-images-amazon.com/image...   \n",
       "10810  $4.98  B01HI76SA8                                                 []   \n",
       "10811  $5.81  B01HI76XS0  [https://images-na.ssl-images-amazon.com/image...   \n",
       "10812  $6.82  B01HI8JVI8                                                 []   \n",
       "\n",
       "                                         imageURLHighRes  \n",
       "0      [https://images-na.ssl-images-amazon.com/image...  \n",
       "1      [https://images-na.ssl-images-amazon.com/image...  \n",
       "2      [https://images-na.ssl-images-amazon.com/image...  \n",
       "3      [https://images-na.ssl-images-amazon.com/image...  \n",
       "4      [https://images-na.ssl-images-amazon.com/image...  \n",
       "...                                                  ...  \n",
       "10808  [https://images-na.ssl-images-amazon.com/image...  \n",
       "10809  [https://images-na.ssl-images-amazon.com/image...  \n",
       "10810                                                 []  \n",
       "10811  [https://images-na.ssl-images-amazon.com/image...  \n",
       "10812                                                 []  \n",
       "\n",
       "[10813 rows x 19 columns]"
      ]
     },
     "execution_count": 11,
     "metadata": {},
     "output_type": "execute_result"
    }
   ],
   "source": [
    "pantry_meta_df = pd.read_json('raw_data/meta_Prime_Pantry.json.gz', lines=True, compression='infer')\n",
    "pantry_meta_df"
   ]
  },
  {
   "cell_type": "code",
   "execution_count": 12,
   "id": "27ab1382",
   "metadata": {},
   "outputs": [
    {
     "data": {
      "text/html": [
       "<div>\n",
       "<style scoped>\n",
       "    .dataframe tbody tr th:only-of-type {\n",
       "        vertical-align: middle;\n",
       "    }\n",
       "\n",
       "    .dataframe tbody tr th {\n",
       "        vertical-align: top;\n",
       "    }\n",
       "\n",
       "    .dataframe thead th {\n",
       "        text-align: right;\n",
       "    }\n",
       "</style>\n",
       "<table border=\"1\" class=\"dataframe\">\n",
       "  <thead>\n",
       "    <tr style=\"text-align: right;\">\n",
       "      <th></th>\n",
       "      <th>category</th>\n",
       "      <th>tech1</th>\n",
       "      <th>description</th>\n",
       "      <th>fit</th>\n",
       "      <th>title</th>\n",
       "      <th>also_buy</th>\n",
       "      <th>tech2</th>\n",
       "      <th>brand</th>\n",
       "      <th>feature</th>\n",
       "      <th>rank</th>\n",
       "      <th>also_view</th>\n",
       "      <th>details</th>\n",
       "      <th>main_cat</th>\n",
       "      <th>similar_item</th>\n",
       "      <th>date</th>\n",
       "      <th>price</th>\n",
       "      <th>asin</th>\n",
       "      <th>imageURL</th>\n",
       "      <th>imageURLHighRes</th>\n",
       "    </tr>\n",
       "  </thead>\n",
       "  <tbody>\n",
       "    <tr>\n",
       "      <th>count</th>\n",
       "      <td>10813</td>\n",
       "      <td>10813</td>\n",
       "      <td>10813</td>\n",
       "      <td>10813</td>\n",
       "      <td>10813</td>\n",
       "      <td>10813</td>\n",
       "      <td>10813</td>\n",
       "      <td>10813</td>\n",
       "      <td>10813</td>\n",
       "      <td>10813</td>\n",
       "      <td>10813</td>\n",
       "      <td>10813</td>\n",
       "      <td>10813</td>\n",
       "      <td>10813</td>\n",
       "      <td>0</td>\n",
       "      <td>10813</td>\n",
       "      <td>10813</td>\n",
       "      <td>10813</td>\n",
       "      <td>10813</td>\n",
       "    </tr>\n",
       "    <tr>\n",
       "      <th>unique</th>\n",
       "      <td>1</td>\n",
       "      <td>1</td>\n",
       "      <td>9409</td>\n",
       "      <td>1</td>\n",
       "      <td>10782</td>\n",
       "      <td>3957</td>\n",
       "      <td>1</td>\n",
       "      <td>1960</td>\n",
       "      <td>763</td>\n",
       "      <td>4828</td>\n",
       "      <td>5940</td>\n",
       "      <td>10786</td>\n",
       "      <td>4</td>\n",
       "      <td>1</td>\n",
       "      <td>0</td>\n",
       "      <td>1482</td>\n",
       "      <td>10812</td>\n",
       "      <td>8940</td>\n",
       "      <td>8940</td>\n",
       "    </tr>\n",
       "    <tr>\n",
       "      <th>top</th>\n",
       "      <td>[]</td>\n",
       "      <td></td>\n",
       "      <td>[]</td>\n",
       "      <td></td>\n",
       "      <td>Centrum Adult Flavor Burst (120 Count, Mixed F...</td>\n",
       "      <td>[]</td>\n",
       "      <td></td>\n",
       "      <td>L'Oreal Paris</td>\n",
       "      <td>[]</td>\n",
       "      <td>[]</td>\n",
       "      <td>[]</td>\n",
       "      <td>{}</td>\n",
       "      <td>&lt;img src=\"https://images-na.ssl-images-amazon....</td>\n",
       "      <td></td>\n",
       "      <td>NaN</td>\n",
       "      <td></td>\n",
       "      <td>B00005BPJO</td>\n",
       "      <td>[]</td>\n",
       "      <td>[]</td>\n",
       "    </tr>\n",
       "    <tr>\n",
       "      <th>freq</th>\n",
       "      <td>10813</td>\n",
       "      <td>10813</td>\n",
       "      <td>98</td>\n",
       "      <td>10813</td>\n",
       "      <td>2</td>\n",
       "      <td>6754</td>\n",
       "      <td>10813</td>\n",
       "      <td>171</td>\n",
       "      <td>9777</td>\n",
       "      <td>5937</td>\n",
       "      <td>4835</td>\n",
       "      <td>24</td>\n",
       "      <td>10621</td>\n",
       "      <td>10813</td>\n",
       "      <td>NaN</td>\n",
       "      <td>4063</td>\n",
       "      <td>2</td>\n",
       "      <td>1781</td>\n",
       "      <td>1781</td>\n",
       "    </tr>\n",
       "  </tbody>\n",
       "</table>\n",
       "</div>"
      ],
      "text/plain": [
       "       category  tech1 description    fit  \\\n",
       "count     10813  10813       10813  10813   \n",
       "unique        1      1        9409      1   \n",
       "top          []                 []          \n",
       "freq      10813  10813          98  10813   \n",
       "\n",
       "                                                    title also_buy  tech2  \\\n",
       "count                                               10813    10813  10813   \n",
       "unique                                              10782     3957      1   \n",
       "top     Centrum Adult Flavor Burst (120 Count, Mixed F...       []          \n",
       "freq                                                    2     6754  10813   \n",
       "\n",
       "                brand feature   rank also_view details  \\\n",
       "count           10813   10813  10813     10813   10813   \n",
       "unique           1960     763   4828      5940   10786   \n",
       "top     L'Oreal Paris      []     []        []      {}   \n",
       "freq              171    9777   5937      4835      24   \n",
       "\n",
       "                                                 main_cat similar_item date  \\\n",
       "count                                               10813        10813    0   \n",
       "unique                                                  4            1    0   \n",
       "top     <img src=\"https://images-na.ssl-images-amazon....               NaN   \n",
       "freq                                                10621        10813  NaN   \n",
       "\n",
       "        price        asin imageURL imageURLHighRes  \n",
       "count   10813       10813    10813           10813  \n",
       "unique   1482       10812     8940            8940  \n",
       "top            B00005BPJO       []              []  \n",
       "freq     4063           2     1781            1781  "
      ]
     },
     "execution_count": 12,
     "metadata": {},
     "output_type": "execute_result"
    }
   ],
   "source": [
    "pantry_meta_df.describe()"
   ]
  },
  {
   "cell_type": "markdown",
   "id": "455ba1f0",
   "metadata": {},
   "source": [
    "So what can we learn from this information? First, there are over 10K products represented in the metadata file. Most of the columns will be of little value to us for Personalize since they aren't relevant as features (image URLs, `details`, `also_viewed`, `also_buy`, etc) or are mostly blank/sparse (`category`, `fit`, `tech1`, etc). The `asin` column is our unique identifier for each item (although there looks to be one duplicate) and `brand` and `price` look like they may be useful. The `description` column is what we will use for unstructured text.\n",
    "\n",
    "However, we have to do some cleanup and reformatting of the fields we want to use in our items dataset. For example, the `price` field is a formatted currency value (string) and not numeric and the `description` field was loaded as an array of strings due to how they values were represented and parsed from the original JSON file. Lastly, the `description` values also contain HTML markup that needs to stripped.\n",
    "\n",
    "Let's start by creating a dataframe with just the columns we need for the items dataset."
   ]
  },
  {
   "cell_type": "code",
   "execution_count": 13,
   "id": "5edf82f8",
   "metadata": {},
   "outputs": [
    {
     "data": {
      "text/html": [
       "<div>\n",
       "<style scoped>\n",
       "    .dataframe tbody tr th:only-of-type {\n",
       "        vertical-align: middle;\n",
       "    }\n",
       "\n",
       "    .dataframe tbody tr th {\n",
       "        vertical-align: top;\n",
       "    }\n",
       "\n",
       "    .dataframe thead th {\n",
       "        text-align: right;\n",
       "    }\n",
       "</style>\n",
       "<table border=\"1\" class=\"dataframe\">\n",
       "  <thead>\n",
       "    <tr style=\"text-align: right;\">\n",
       "      <th></th>\n",
       "      <th>asin</th>\n",
       "      <th>brand</th>\n",
       "      <th>price</th>\n",
       "      <th>description</th>\n",
       "    </tr>\n",
       "  </thead>\n",
       "  <tbody>\n",
       "    <tr>\n",
       "      <th>0</th>\n",
       "      <td>B00005BPJO</td>\n",
       "      <td>Milk Duds</td>\n",
       "      <td>$5.00</td>\n",
       "      <td>[Sink your sweet tooth into MILK DUDS Candya d...</td>\n",
       "    </tr>\n",
       "    <tr>\n",
       "      <th>1</th>\n",
       "      <td>B00005BPJO</td>\n",
       "      <td>Milk Duds</td>\n",
       "      <td>$5.00</td>\n",
       "      <td>[Sink your sweet tooth into MILK DUDS Candya d...</td>\n",
       "    </tr>\n",
       "    <tr>\n",
       "      <th>2</th>\n",
       "      <td>B0000DIF38</td>\n",
       "      <td>Goya</td>\n",
       "      <td></td>\n",
       "      <td>[A perfect Lentil soup starts with Goya Lentil...</td>\n",
       "    </tr>\n",
       "    <tr>\n",
       "      <th>3</th>\n",
       "      <td>B0000DIWNI</td>\n",
       "      <td>Saran</td>\n",
       "      <td></td>\n",
       "      <td>[Saran Premium Wrap is an extra tough yet easy...</td>\n",
       "    </tr>\n",
       "    <tr>\n",
       "      <th>4</th>\n",
       "      <td>B0000DIWNZ</td>\n",
       "      <td>Saran</td>\n",
       "      <td></td>\n",
       "      <td>[200 sq ft (285 ft x 11-3/4 in x 18.6 m2). Eas...</td>\n",
       "    </tr>\n",
       "    <tr>\n",
       "      <th>5</th>\n",
       "      <td>B0000GH6UG</td>\n",
       "      <td>Ibarra</td>\n",
       "      <td></td>\n",
       "      <td>[Ibarra Chocolate, 19 Oz, , ]</td>\n",
       "    </tr>\n",
       "    <tr>\n",
       "      <th>6</th>\n",
       "      <td>B0000KC2BK</td>\n",
       "      <td>Knorr</td>\n",
       "      <td>$3.09</td>\n",
       "      <td>[Knorr Granulated Chicken Flavor Bouillon is a...</td>\n",
       "    </tr>\n",
       "    <tr>\n",
       "      <th>7</th>\n",
       "      <td>B0001E1IN8</td>\n",
       "      <td>Castillo</td>\n",
       "      <td></td>\n",
       "      <td>[Red chili habanero sauces. They are present t...</td>\n",
       "    </tr>\n",
       "    <tr>\n",
       "      <th>8</th>\n",
       "      <td>B00032E8XK</td>\n",
       "      <td>Chicken of the Sea</td>\n",
       "      <td>$1.48</td>\n",
       "      <td>[Chicken of the Sea Solid White Albacore Tuna ...</td>\n",
       "    </tr>\n",
       "    <tr>\n",
       "      <th>9</th>\n",
       "      <td>B0005XMTHE</td>\n",
       "      <td>Smucker's</td>\n",
       "      <td>$2.29</td>\n",
       "      <td>[Helps build muscles with bcaa's amino acids, ...</td>\n",
       "    </tr>\n",
       "  </tbody>\n",
       "</table>\n",
       "</div>"
      ],
      "text/plain": [
       "         asin               brand  price  \\\n",
       "0  B00005BPJO           Milk Duds  $5.00   \n",
       "1  B00005BPJO           Milk Duds  $5.00   \n",
       "2  B0000DIF38                Goya          \n",
       "3  B0000DIWNI               Saran          \n",
       "4  B0000DIWNZ               Saran          \n",
       "5  B0000GH6UG              Ibarra          \n",
       "6  B0000KC2BK               Knorr  $3.09   \n",
       "7  B0001E1IN8            Castillo          \n",
       "8  B00032E8XK  Chicken of the Sea  $1.48   \n",
       "9  B0005XMTHE           Smucker's  $2.29   \n",
       "\n",
       "                                         description  \n",
       "0  [Sink your sweet tooth into MILK DUDS Candya d...  \n",
       "1  [Sink your sweet tooth into MILK DUDS Candya d...  \n",
       "2  [A perfect Lentil soup starts with Goya Lentil...  \n",
       "3  [Saran Premium Wrap is an extra tough yet easy...  \n",
       "4  [200 sq ft (285 ft x 11-3/4 in x 18.6 m2). Eas...  \n",
       "5                      [Ibarra Chocolate, 19 Oz, , ]  \n",
       "6  [Knorr Granulated Chicken Flavor Bouillon is a...  \n",
       "7  [Red chili habanero sauces. They are present t...  \n",
       "8  [Chicken of the Sea Solid White Albacore Tuna ...  \n",
       "9  [Helps build muscles with bcaa's amino acids, ...  "
      ]
     },
     "execution_count": 13,
     "metadata": {},
     "output_type": "execute_result"
    }
   ],
   "source": [
    "items_df = pantry_meta_df.copy()\n",
    "items_df = items_df[['asin', 'brand', 'price', 'description']]\n",
    "items_df.head(10)"
   ]
  },
  {
   "cell_type": "markdown",
   "id": "a638b08e",
   "metadata": {},
   "source": [
    "Next let's drop duplicate rows based on the `asin` column value. There should only be one duplicate based on the `describe()` output above."
   ]
  },
  {
   "cell_type": "code",
   "execution_count": 14,
   "id": "76120465",
   "metadata": {},
   "outputs": [
    {
     "data": {
      "text/plain": [
       "(10812, 4)"
      ]
     },
     "execution_count": 14,
     "metadata": {},
     "output_type": "execute_result"
    }
   ],
   "source": [
    "items_df = items_df.drop_duplicates(subset=['asin'], keep='last')\n",
    "items_df.shape"
   ]
  },
  {
   "cell_type": "markdown",
   "id": "d2e0d600",
   "metadata": {},
   "source": [
    "Next let's focus on reformatting and cleaning up the `description` column values. As you can see above, the `description` is currently represented as an array of strings (because that's how it is represented in the JSON file). We need to flatten this array into a single string and strip all HTML markup from each fragment.\n",
    "\n",
    "We'll start by creating two utility functions that will be used to clean the `description` (and later the `title` column in the original dataset when we want to display titles for recommended products)."
   ]
  },
  {
   "cell_type": "code",
   "execution_count": 15,
   "id": "40a63bc6",
   "metadata": {},
   "outputs": [],
   "source": [
    "# Strips and cleans a value of HTML markup and whitespace.\n",
    "def clean_markup(value):\n",
    "    s = str(value).strip()\n",
    "    if s != '':\n",
    "        s = str(html.fromstring(s).text_content())\n",
    "        s = ' '.join(s.split())\n",
    "                \n",
    "    return s.strip()\n",
    "\n",
    "# Cleans and reformats the description column value for a dataframe row.\n",
    "def clean_and_reformat_description(row):\n",
    "    s = ''\n",
    "    for el in row['description']:\n",
    "        el = clean_markup(el)\n",
    "        if el != '':\n",
    "            s += ' ' + el\n",
    "                \n",
    "    return s.strip()"
   ]
  },
  {
   "cell_type": "code",
   "execution_count": 16,
   "id": "e685a3cc",
   "metadata": {},
   "outputs": [
    {
     "data": {
      "text/html": [
       "<div>\n",
       "<style scoped>\n",
       "    .dataframe tbody tr th:only-of-type {\n",
       "        vertical-align: middle;\n",
       "    }\n",
       "\n",
       "    .dataframe tbody tr th {\n",
       "        vertical-align: top;\n",
       "    }\n",
       "\n",
       "    .dataframe thead th {\n",
       "        text-align: right;\n",
       "    }\n",
       "</style>\n",
       "<table border=\"1\" class=\"dataframe\">\n",
       "  <thead>\n",
       "    <tr style=\"text-align: right;\">\n",
       "      <th></th>\n",
       "      <th>asin</th>\n",
       "      <th>brand</th>\n",
       "      <th>price</th>\n",
       "      <th>description</th>\n",
       "    </tr>\n",
       "  </thead>\n",
       "  <tbody>\n",
       "    <tr>\n",
       "      <th>1</th>\n",
       "      <td>B00005BPJO</td>\n",
       "      <td>Milk Duds</td>\n",
       "      <td>$5.00</td>\n",
       "      <td>Sink your sweet tooth into MILK DUDS Candya de...</td>\n",
       "    </tr>\n",
       "    <tr>\n",
       "      <th>2</th>\n",
       "      <td>B0000DIF38</td>\n",
       "      <td>Goya</td>\n",
       "      <td></td>\n",
       "      <td>A perfect Lentil soup starts with Goya Lentils...</td>\n",
       "    </tr>\n",
       "    <tr>\n",
       "      <th>3</th>\n",
       "      <td>B0000DIWNI</td>\n",
       "      <td>Saran</td>\n",
       "      <td></td>\n",
       "      <td>Saran Premium Wrap is an extra tough yet easy ...</td>\n",
       "    </tr>\n",
       "    <tr>\n",
       "      <th>4</th>\n",
       "      <td>B0000DIWNZ</td>\n",
       "      <td>Saran</td>\n",
       "      <td></td>\n",
       "      <td>200 sq ft (285 ft x 11-3/4 in x 18.6 m2). Easy...</td>\n",
       "    </tr>\n",
       "    <tr>\n",
       "      <th>5</th>\n",
       "      <td>B0000GH6UG</td>\n",
       "      <td>Ibarra</td>\n",
       "      <td></td>\n",
       "      <td>Ibarra Chocolate, 19 Oz</td>\n",
       "    </tr>\n",
       "    <tr>\n",
       "      <th>...</th>\n",
       "      <td>...</td>\n",
       "      <td>...</td>\n",
       "      <td>...</td>\n",
       "      <td>...</td>\n",
       "    </tr>\n",
       "    <tr>\n",
       "      <th>10808</th>\n",
       "      <td>B01HI76312</td>\n",
       "      <td>KIND</td>\n",
       "      <td>$3.98</td>\n",
       "      <td>These bars are where our journey started and i...</td>\n",
       "    </tr>\n",
       "    <tr>\n",
       "      <th>10809</th>\n",
       "      <td>B01HI76790</td>\n",
       "      <td>KIND</td>\n",
       "      <td>$5.81</td>\n",
       "      <td>These bars are where our journey started and i...</td>\n",
       "    </tr>\n",
       "    <tr>\n",
       "      <th>10810</th>\n",
       "      <td>B01HI76SA8</td>\n",
       "      <td>KIND</td>\n",
       "      <td>$4.98</td>\n",
       "      <td>These bars are where our journey started and i...</td>\n",
       "    </tr>\n",
       "    <tr>\n",
       "      <th>10811</th>\n",
       "      <td>B01HI76XS0</td>\n",
       "      <td>KIND</td>\n",
       "      <td>$5.81</td>\n",
       "      <td>These bars are where our journey started and i...</td>\n",
       "    </tr>\n",
       "    <tr>\n",
       "      <th>10812</th>\n",
       "      <td>B01HI8JVI8</td>\n",
       "      <td>Tostitos</td>\n",
       "      <td>$6.82</td>\n",
       "      <td>Delicious, crowd pleasing and convenient it ca...</td>\n",
       "    </tr>\n",
       "  </tbody>\n",
       "</table>\n",
       "<p>10812 rows × 4 columns</p>\n",
       "</div>"
      ],
      "text/plain": [
       "             asin      brand  price  \\\n",
       "1      B00005BPJO  Milk Duds  $5.00   \n",
       "2      B0000DIF38       Goya          \n",
       "3      B0000DIWNI      Saran          \n",
       "4      B0000DIWNZ      Saran          \n",
       "5      B0000GH6UG     Ibarra          \n",
       "...           ...        ...    ...   \n",
       "10808  B01HI76312       KIND  $3.98   \n",
       "10809  B01HI76790       KIND  $5.81   \n",
       "10810  B01HI76SA8       KIND  $4.98   \n",
       "10811  B01HI76XS0       KIND  $5.81   \n",
       "10812  B01HI8JVI8   Tostitos  $6.82   \n",
       "\n",
       "                                             description  \n",
       "1      Sink your sweet tooth into MILK DUDS Candya de...  \n",
       "2      A perfect Lentil soup starts with Goya Lentils...  \n",
       "3      Saran Premium Wrap is an extra tough yet easy ...  \n",
       "4      200 sq ft (285 ft x 11-3/4 in x 18.6 m2). Easy...  \n",
       "5                                Ibarra Chocolate, 19 Oz  \n",
       "...                                                  ...  \n",
       "10808  These bars are where our journey started and i...  \n",
       "10809  These bars are where our journey started and i...  \n",
       "10810  These bars are where our journey started and i...  \n",
       "10811  These bars are where our journey started and i...  \n",
       "10812  Delicious, crowd pleasing and convenient it ca...  \n",
       "\n",
       "[10812 rows x 4 columns]"
      ]
     },
     "execution_count": 16,
     "metadata": {},
     "output_type": "execute_result"
    }
   ],
   "source": [
    "items_df['description'] = items_df.apply(clean_and_reformat_description, axis=1)\n",
    "items_df"
   ]
  },
  {
   "cell_type": "markdown",
   "id": "86c9934c",
   "metadata": {},
   "source": [
    "Next let's take a look at the `price` column and change its type from a string to a float."
   ]
  },
  {
   "cell_type": "code",
   "execution_count": 17,
   "id": "b68d4ec1",
   "metadata": {},
   "outputs": [
    {
     "data": {
      "text/plain": [
       "          4063\n",
       "$2.99      114\n",
       "$3.99      113\n",
       "$4.99      103\n",
       "$5.99       87\n",
       "          ... \n",
       "$10.40       1\n",
       "$43.53       1\n",
       "$20.42       1\n",
       "$17.74       1\n",
       "$62.99       1\n",
       "Name: price, Length: 1482, dtype: int64"
      ]
     },
     "execution_count": 17,
     "metadata": {},
     "output_type": "execute_result"
    }
   ],
   "source": [
    "items_df['price'].value_counts()"
   ]
  },
  {
   "cell_type": "markdown",
   "id": "a80ab2bf",
   "metadata": {},
   "source": [
    "The following cell with convert empty/non-numeric prices to `np.nan` and all others will have the `$` currency symbol removed. This will allow us to coerce the type to a float."
   ]
  },
  {
   "cell_type": "code",
   "execution_count": 18,
   "id": "a5bf7024",
   "metadata": {},
   "outputs": [
    {
     "data": {
      "text/html": [
       "<div>\n",
       "<style scoped>\n",
       "    .dataframe tbody tr th:only-of-type {\n",
       "        vertical-align: middle;\n",
       "    }\n",
       "\n",
       "    .dataframe tbody tr th {\n",
       "        vertical-align: top;\n",
       "    }\n",
       "\n",
       "    .dataframe thead th {\n",
       "        text-align: right;\n",
       "    }\n",
       "</style>\n",
       "<table border=\"1\" class=\"dataframe\">\n",
       "  <thead>\n",
       "    <tr style=\"text-align: right;\">\n",
       "      <th></th>\n",
       "      <th>asin</th>\n",
       "      <th>brand</th>\n",
       "      <th>price</th>\n",
       "      <th>description</th>\n",
       "    </tr>\n",
       "  </thead>\n",
       "  <tbody>\n",
       "    <tr>\n",
       "      <th>1</th>\n",
       "      <td>B00005BPJO</td>\n",
       "      <td>Milk Duds</td>\n",
       "      <td>5.00</td>\n",
       "      <td>Sink your sweet tooth into MILK DUDS Candya de...</td>\n",
       "    </tr>\n",
       "    <tr>\n",
       "      <th>2</th>\n",
       "      <td>B0000DIF38</td>\n",
       "      <td>Goya</td>\n",
       "      <td>NaN</td>\n",
       "      <td>A perfect Lentil soup starts with Goya Lentils...</td>\n",
       "    </tr>\n",
       "    <tr>\n",
       "      <th>3</th>\n",
       "      <td>B0000DIWNI</td>\n",
       "      <td>Saran</td>\n",
       "      <td>NaN</td>\n",
       "      <td>Saran Premium Wrap is an extra tough yet easy ...</td>\n",
       "    </tr>\n",
       "    <tr>\n",
       "      <th>4</th>\n",
       "      <td>B0000DIWNZ</td>\n",
       "      <td>Saran</td>\n",
       "      <td>NaN</td>\n",
       "      <td>200 sq ft (285 ft x 11-3/4 in x 18.6 m2). Easy...</td>\n",
       "    </tr>\n",
       "    <tr>\n",
       "      <th>5</th>\n",
       "      <td>B0000GH6UG</td>\n",
       "      <td>Ibarra</td>\n",
       "      <td>NaN</td>\n",
       "      <td>Ibarra Chocolate, 19 Oz</td>\n",
       "    </tr>\n",
       "    <tr>\n",
       "      <th>...</th>\n",
       "      <td>...</td>\n",
       "      <td>...</td>\n",
       "      <td>...</td>\n",
       "      <td>...</td>\n",
       "    </tr>\n",
       "    <tr>\n",
       "      <th>10808</th>\n",
       "      <td>B01HI76312</td>\n",
       "      <td>KIND</td>\n",
       "      <td>3.98</td>\n",
       "      <td>These bars are where our journey started and i...</td>\n",
       "    </tr>\n",
       "    <tr>\n",
       "      <th>10809</th>\n",
       "      <td>B01HI76790</td>\n",
       "      <td>KIND</td>\n",
       "      <td>5.81</td>\n",
       "      <td>These bars are where our journey started and i...</td>\n",
       "    </tr>\n",
       "    <tr>\n",
       "      <th>10810</th>\n",
       "      <td>B01HI76SA8</td>\n",
       "      <td>KIND</td>\n",
       "      <td>4.98</td>\n",
       "      <td>These bars are where our journey started and i...</td>\n",
       "    </tr>\n",
       "    <tr>\n",
       "      <th>10811</th>\n",
       "      <td>B01HI76XS0</td>\n",
       "      <td>KIND</td>\n",
       "      <td>5.81</td>\n",
       "      <td>These bars are where our journey started and i...</td>\n",
       "    </tr>\n",
       "    <tr>\n",
       "      <th>10812</th>\n",
       "      <td>B01HI8JVI8</td>\n",
       "      <td>Tostitos</td>\n",
       "      <td>6.82</td>\n",
       "      <td>Delicious, crowd pleasing and convenient it ca...</td>\n",
       "    </tr>\n",
       "  </tbody>\n",
       "</table>\n",
       "<p>10812 rows × 4 columns</p>\n",
       "</div>"
      ],
      "text/plain": [
       "             asin      brand price  \\\n",
       "1      B00005BPJO  Milk Duds  5.00   \n",
       "2      B0000DIF38       Goya   NaN   \n",
       "3      B0000DIWNI      Saran   NaN   \n",
       "4      B0000DIWNZ      Saran   NaN   \n",
       "5      B0000GH6UG     Ibarra   NaN   \n",
       "...           ...        ...   ...   \n",
       "10808  B01HI76312       KIND  3.98   \n",
       "10809  B01HI76790       KIND  5.81   \n",
       "10810  B01HI76SA8       KIND  4.98   \n",
       "10811  B01HI76XS0       KIND  5.81   \n",
       "10812  B01HI8JVI8   Tostitos  6.82   \n",
       "\n",
       "                                             description  \n",
       "1      Sink your sweet tooth into MILK DUDS Candya de...  \n",
       "2      A perfect Lentil soup starts with Goya Lentils...  \n",
       "3      Saran Premium Wrap is an extra tough yet easy ...  \n",
       "4      200 sq ft (285 ft x 11-3/4 in x 18.6 m2). Easy...  \n",
       "5                                Ibarra Chocolate, 19 Oz  \n",
       "...                                                  ...  \n",
       "10808  These bars are where our journey started and i...  \n",
       "10809  These bars are where our journey started and i...  \n",
       "10810  These bars are where our journey started and i...  \n",
       "10811  These bars are where our journey started and i...  \n",
       "10812  Delicious, crowd pleasing and convenient it ca...  \n",
       "\n",
       "[10812 rows x 4 columns]"
      ]
     },
     "execution_count": 18,
     "metadata": {},
     "output_type": "execute_result"
    }
   ],
   "source": [
    "def convert_price(row):\n",
    "    v = str(row['price']).strip().replace('$', '')\n",
    "    if v == '' or not v.lstrip('-').replace('.', '').isdigit():\n",
    "        return np.nan\n",
    "    return v\n",
    "\n",
    "items_df['price'] = items_df.apply(convert_price, axis=1)\n",
    "items_df"
   ]
  },
  {
   "cell_type": "code",
   "execution_count": 19,
   "id": "0836fe75",
   "metadata": {},
   "outputs": [
    {
     "data": {
      "text/plain": [
       "2.99     114\n",
       "3.99     113\n",
       "4.99     103\n",
       "5.99      87\n",
       "2.98      76\n",
       "        ... \n",
       "12.66      1\n",
       "24.82      1\n",
       "19.92      1\n",
       "13.97      1\n",
       "13.33      1\n",
       "Name: price, Length: 1480, dtype: int64"
      ]
     },
     "execution_count": 19,
     "metadata": {},
     "output_type": "execute_result"
    }
   ],
   "source": [
    "items_df['price'].value_counts()"
   ]
  },
  {
   "cell_type": "code",
   "execution_count": 20,
   "id": "415f9089",
   "metadata": {},
   "outputs": [],
   "source": [
    "items_df['price'] = items_df['price'].astype(float)"
   ]
  },
  {
   "cell_type": "markdown",
   "id": "2e3d9a4b",
   "metadata": {},
   "source": [
    "Next we'll rename the columns to match the names and uppercase name format expected by Personalize."
   ]
  },
  {
   "cell_type": "code",
   "execution_count": 21,
   "id": "dcfe661e",
   "metadata": {},
   "outputs": [
    {
     "data": {
      "text/html": [
       "<div>\n",
       "<style scoped>\n",
       "    .dataframe tbody tr th:only-of-type {\n",
       "        vertical-align: middle;\n",
       "    }\n",
       "\n",
       "    .dataframe tbody tr th {\n",
       "        vertical-align: top;\n",
       "    }\n",
       "\n",
       "    .dataframe thead th {\n",
       "        text-align: right;\n",
       "    }\n",
       "</style>\n",
       "<table border=\"1\" class=\"dataframe\">\n",
       "  <thead>\n",
       "    <tr style=\"text-align: right;\">\n",
       "      <th></th>\n",
       "      <th>ITEM_ID</th>\n",
       "      <th>BRAND</th>\n",
       "      <th>PRICE</th>\n",
       "      <th>DESCRIPTION</th>\n",
       "    </tr>\n",
       "  </thead>\n",
       "  <tbody>\n",
       "    <tr>\n",
       "      <th>1</th>\n",
       "      <td>B00005BPJO</td>\n",
       "      <td>Milk Duds</td>\n",
       "      <td>5.00</td>\n",
       "      <td>Sink your sweet tooth into MILK DUDS Candya de...</td>\n",
       "    </tr>\n",
       "    <tr>\n",
       "      <th>2</th>\n",
       "      <td>B0000DIF38</td>\n",
       "      <td>Goya</td>\n",
       "      <td>NaN</td>\n",
       "      <td>A perfect Lentil soup starts with Goya Lentils...</td>\n",
       "    </tr>\n",
       "    <tr>\n",
       "      <th>3</th>\n",
       "      <td>B0000DIWNI</td>\n",
       "      <td>Saran</td>\n",
       "      <td>NaN</td>\n",
       "      <td>Saran Premium Wrap is an extra tough yet easy ...</td>\n",
       "    </tr>\n",
       "    <tr>\n",
       "      <th>4</th>\n",
       "      <td>B0000DIWNZ</td>\n",
       "      <td>Saran</td>\n",
       "      <td>NaN</td>\n",
       "      <td>200 sq ft (285 ft x 11-3/4 in x 18.6 m2). Easy...</td>\n",
       "    </tr>\n",
       "    <tr>\n",
       "      <th>5</th>\n",
       "      <td>B0000GH6UG</td>\n",
       "      <td>Ibarra</td>\n",
       "      <td>NaN</td>\n",
       "      <td>Ibarra Chocolate, 19 Oz</td>\n",
       "    </tr>\n",
       "    <tr>\n",
       "      <th>6</th>\n",
       "      <td>B0000KC2BK</td>\n",
       "      <td>Knorr</td>\n",
       "      <td>3.09</td>\n",
       "      <td>Knorr Granulated Chicken Flavor Bouillon is a ...</td>\n",
       "    </tr>\n",
       "    <tr>\n",
       "      <th>7</th>\n",
       "      <td>B0001E1IN8</td>\n",
       "      <td>Castillo</td>\n",
       "      <td>NaN</td>\n",
       "      <td>Red chili habanero sauces. They are present to...</td>\n",
       "    </tr>\n",
       "    <tr>\n",
       "      <th>8</th>\n",
       "      <td>B00032E8XK</td>\n",
       "      <td>Chicken of the Sea</td>\n",
       "      <td>1.48</td>\n",
       "      <td>Chicken of the Sea Solid White Albacore Tuna i...</td>\n",
       "    </tr>\n",
       "    <tr>\n",
       "      <th>9</th>\n",
       "      <td>B0005XMTHE</td>\n",
       "      <td>Smucker's</td>\n",
       "      <td>2.29</td>\n",
       "      <td>Helps build muscles with bcaa's amino acids, i...</td>\n",
       "    </tr>\n",
       "    <tr>\n",
       "      <th>10</th>\n",
       "      <td>B0005XNE6E</td>\n",
       "      <td>Snapple</td>\n",
       "      <td>1.99</td>\n",
       "      <td>At Snapple, we believe lifes a peach. Weve bee...</td>\n",
       "    </tr>\n",
       "  </tbody>\n",
       "</table>\n",
       "</div>"
      ],
      "text/plain": [
       "       ITEM_ID               BRAND  PRICE  \\\n",
       "1   B00005BPJO           Milk Duds   5.00   \n",
       "2   B0000DIF38                Goya    NaN   \n",
       "3   B0000DIWNI               Saran    NaN   \n",
       "4   B0000DIWNZ               Saran    NaN   \n",
       "5   B0000GH6UG              Ibarra    NaN   \n",
       "6   B0000KC2BK               Knorr   3.09   \n",
       "7   B0001E1IN8            Castillo    NaN   \n",
       "8   B00032E8XK  Chicken of the Sea   1.48   \n",
       "9   B0005XMTHE           Smucker's   2.29   \n",
       "10  B0005XNE6E             Snapple   1.99   \n",
       "\n",
       "                                          DESCRIPTION  \n",
       "1   Sink your sweet tooth into MILK DUDS Candya de...  \n",
       "2   A perfect Lentil soup starts with Goya Lentils...  \n",
       "3   Saran Premium Wrap is an extra tough yet easy ...  \n",
       "4   200 sq ft (285 ft x 11-3/4 in x 18.6 m2). Easy...  \n",
       "5                             Ibarra Chocolate, 19 Oz  \n",
       "6   Knorr Granulated Chicken Flavor Bouillon is a ...  \n",
       "7   Red chili habanero sauces. They are present to...  \n",
       "8   Chicken of the Sea Solid White Albacore Tuna i...  \n",
       "9   Helps build muscles with bcaa's amino acids, i...  \n",
       "10  At Snapple, we believe lifes a peach. Weve bee...  "
      ]
     },
     "execution_count": 21,
     "metadata": {},
     "output_type": "execute_result"
    }
   ],
   "source": [
    "items_df.rename(columns = {'asin':'ITEM_ID', 'brand':'BRAND', \n",
    "                              'price':'PRICE', 'description': 'DESCRIPTION'}, inplace = True)\n",
    "items_df.head(10)"
   ]
  },
  {
   "cell_type": "markdown",
   "id": "7ddd97f5",
   "metadata": {},
   "source": [
    "We'll be creating one items CSV. We'll use this file to train our personalize models so we can compare the offline metrics and do some online inspection of recommendations."
   ]
  },
  {
   "cell_type": "code",
   "execution_count": 22,
   "id": "63325dc9",
   "metadata": {},
   "outputs": [],
   "source": [
    "items_filename = \"items-metadata.csv\"\n",
    "items_df.to_csv(items_filename, index=False, float_format='%.2f')"
   ]
  },
  {
   "cell_type": "markdown",
   "id": "db84dbcf",
   "metadata": {},
   "source": [
    "## Create dataset groups and upload datasets\n",
    "\n",
    "With the datasets that we need built, now it's time to upload them to Personalize using dataset import jobs. Before we can upload the CSVs, we need to create dataset groups, create schemas for our datasets, and create datasets.\n",
    "\n",
    "We'll start by creating SDK client that we'll need to interact with Personalize."
   ]
  },
  {
   "cell_type": "markdown",
   "id": "243fb737",
   "metadata": {},
   "source": [
    "### Create dataset groups\n",
    "\n",
    "Let's create our dataset group."
   ]
  },
  {
   "cell_type": "code",
   "execution_count": 24,
   "id": "4dd7dfb4",
   "metadata": {},
   "outputs": [],
   "source": [
    "personalize = boto3.client('personalize')\n",
    "personalize_runtime = boto3.client('personalize-runtime')"
   ]
  },
  {
   "cell_type": "code",
   "execution_count": 25,
   "id": "4f6e2e5a",
   "metadata": {},
   "outputs": [
    {
     "name": "stdout",
     "output_type": "stream",
     "text": [
      "{\n",
      "  \"datasetGroupArn\": \"arn:aws:personalize:us-east-1:144386903708:dataset-group/amazon-pantry-aws-similar-items\",\n",
      "  \"ResponseMetadata\": {\n",
      "    \"RequestId\": \"4b22f3c9-d00d-49fa-b56f-3049e60b14e2\",\n",
      "    \"HTTPStatusCode\": 200,\n",
      "    \"HTTPHeaders\": {\n",
      "      \"content-type\": \"application/x-amz-json-1.1\",\n",
      "      \"date\": \"Thu, 07 Oct 2021 15:17:26 GMT\",\n",
      "      \"x-amzn-requestid\": \"4b22f3c9-d00d-49fa-b56f-3049e60b14e2\",\n",
      "      \"content-length\": \"110\",\n",
      "      \"connection\": \"keep-alive\"\n",
      "    },\n",
      "    \"RetryAttempts\": 0\n",
      "  }\n",
      "}\n"
     ]
    }
   ],
   "source": [
    "create_dataset_group_response = personalize.create_dataset_group(\n",
    "    name = \"amazon-pantry-aws-similar-items\"\n",
    ")\n",
    "\n",
    "dataset_group = create_dataset_group_response['datasetGroupArn']\n",
    "print(json.dumps(create_dataset_group_response, indent=2))"
   ]
  },
  {
   "cell_type": "markdown",
   "id": "a5d921d1",
   "metadata": {},
   "source": [
    "Since dataset groups can take a few seconds to be fully created, let's wait until they both have a status of ACTIVE."
   ]
  },
  {
   "cell_type": "code",
   "execution_count": 26,
   "id": "10d559e5",
   "metadata": {},
   "outputs": [
    {
     "name": "stdout",
     "output_type": "stream",
     "text": [
      "At least one dataset group create is still in progress\n",
      "At least one dataset group create is still in progress\n",
      "Dataset group create succeeded for arn:aws:personalize:us-east-1:144386903708:dataset-group/amazon-pantry-aws-similar-items\n"
     ]
    }
   ],
   "source": [
    "in_progress_dataset_group_arns = [ dataset_group ]\n",
    "\n",
    "max_time = time.time() + 3*60*60 # 3 hours\n",
    "while time.time() < max_time:\n",
    "    for dataset_group_arn in in_progress_dataset_group_arns:\n",
    "        describe_dataset_group_response = personalize.describe_dataset_group(\n",
    "            datasetGroupArn = dataset_group_arn\n",
    "        )\n",
    "        status = describe_dataset_group_response[\"datasetGroup\"][\"status\"]\n",
    "        if status == \"ACTIVE\":\n",
    "            print(\"Dataset group create succeeded for {}\".format(dataset_group_arn))\n",
    "            in_progress_dataset_group_arns.remove(dataset_group_arn)\n",
    "        elif status == \"CREATE FAILED\":\n",
    "            print(\"Create failed for {}\".format(dataset_group_arn))\n",
    "            in_progress_dataset_group_arns.remove(dataset_group_arn)\n",
    "\n",
    "    if len(in_progress_dataset_group_arns) <= 0:\n",
    "        break\n",
    "    else:\n",
    "        print(\"At least one dataset group create is still in progress\")\n",
    "                \n",
    "    time.sleep(10)"
   ]
  },
  {
   "cell_type": "markdown",
   "id": "14515cca",
   "metadata": {},
   "source": [
    "### Create Interactions dataset schema and datasets\n",
    "\n",
    "We will be creating a single schema for the interactions dataset type and sharing it across both solution versions. This is possible since schemas are global to your AWS account and not specific to a dataset group."
   ]
  },
  {
   "cell_type": "code",
   "execution_count": 27,
   "id": "155b5b00",
   "metadata": {},
   "outputs": [
    {
     "name": "stdout",
     "output_type": "stream",
     "text": [
      "{\n",
      "  \"schemaArn\": \"arn:aws:personalize:us-east-1:144386903708:schema/amazon-pantry-interactions-1\",\n",
      "  \"ResponseMetadata\": {\n",
      "    \"RequestId\": \"96501057-36b8-4ca7-ad76-911498441b14\",\n",
      "    \"HTTPStatusCode\": 200,\n",
      "    \"HTTPHeaders\": {\n",
      "      \"content-type\": \"application/x-amz-json-1.1\",\n",
      "      \"date\": \"Thu, 07 Oct 2021 15:18:31 GMT\",\n",
      "      \"x-amzn-requestid\": \"96501057-36b8-4ca7-ad76-911498441b14\",\n",
      "      \"content-length\": \"94\",\n",
      "      \"connection\": \"keep-alive\"\n",
      "    },\n",
      "    \"RetryAttempts\": 0\n",
      "  }\n",
      "}\n"
     ]
    }
   ],
   "source": [
    "interactions_schema = schema = {\n",
    "    \"type\": \"record\",\n",
    "    \"name\": \"Interactions\",\n",
    "    \"namespace\": \"com.amazonaws.personalize.schema\",\n",
    "    \"fields\": [\n",
    "        {\n",
    "            \"name\": \"USER_ID\",\n",
    "            \"type\": \"string\"\n",
    "        },\n",
    "        {\n",
    "            \"name\": \"ITEM_ID\",\n",
    "            \"type\": \"string\"\n",
    "        },\n",
    "        {\n",
    "            \"name\": \"TIMESTAMP\",\n",
    "            \"type\": \"long\"\n",
    "        },\n",
    "        {\n",
    "            \"name\": \"EVENT_VALUE\",\n",
    "            \"type\": \"float\"\n",
    "        },\n",
    "        {\n",
    "            \"name\": \"EVENT_TYPE\",\n",
    "            \"type\": \"string\"\n",
    "        }\n",
    "    ],\n",
    "    \"version\": \"1.0\"\n",
    "}\n",
    "            \n",
    "create_schema_response = personalize.create_schema(\n",
    "    name = \"amazon-pantry-interactions-1\",\n",
    "    schema = json.dumps(interactions_schema)\n",
    ")\n",
    "\n",
    "interaction_schema_arn = create_schema_response['schemaArn']\n",
    "print(json.dumps(create_schema_response, indent=2))"
   ]
  },
  {
   "cell_type": "markdown",
   "id": "054060b4",
   "metadata": {},
   "source": [
    "Next we'll create an Interactions dataset in our dataset group specifying the schema we just created."
   ]
  },
  {
   "cell_type": "code",
   "execution_count": 28,
   "id": "31f2f614",
   "metadata": {},
   "outputs": [
    {
     "name": "stdout",
     "output_type": "stream",
     "text": [
      "{\n",
      "  \"datasetArn\": \"arn:aws:personalize:us-east-1:144386903708:dataset/amazon-pantry-aws-similar-items/INTERACTIONS\",\n",
      "  \"ResponseMetadata\": {\n",
      "    \"RequestId\": \"f3aa8827-d8a3-4afa-b731-70ccd4595675\",\n",
      "    \"HTTPStatusCode\": 200,\n",
      "    \"HTTPHeaders\": {\n",
      "      \"content-type\": \"application/x-amz-json-1.1\",\n",
      "      \"date\": \"Thu, 07 Oct 2021 15:18:36 GMT\",\n",
      "      \"x-amzn-requestid\": \"f3aa8827-d8a3-4afa-b731-70ccd4595675\",\n",
      "      \"content-length\": \"112\",\n",
      "      \"connection\": \"keep-alive\"\n",
      "    },\n",
      "    \"RetryAttempts\": 0\n",
      "  }\n",
      "}\n"
     ]
    }
   ],
   "source": [
    "dataset_type = \"INTERACTIONS\"\n",
    "create_dataset_response = personalize.create_dataset(\n",
    "    name = \"amazon-pantry-ints\",\n",
    "    datasetType = dataset_type,\n",
    "    datasetGroupArn = dataset_group,\n",
    "    schemaArn = interaction_schema_arn\n",
    ")\n",
    "\n",
    "interactions_dataset = create_dataset_response['datasetArn']\n",
    "print(json.dumps(create_dataset_response, indent=2))"
   ]
  },
  {
   "cell_type": "markdown",
   "id": "1c8ecfa1",
   "metadata": {},
   "source": [
    "### Stage Interactions CSV in S3\n",
    "\n",
    "Before we can upload the interactions CSV we created earlier into the Personalize datasets that we just created, we need to stage the CSV in an S3 bucket.\n",
    "\n",
    "Let's create an S3 bucket and copy the interactions CSV file to the bucket."
   ]
  },
  {
   "cell_type": "code",
   "execution_count": 29,
   "id": "76f38a7e",
   "metadata": {},
   "outputs": [
    {
     "name": "stdout",
     "output_type": "stream",
     "text": [
      "us-east-1\n"
     ]
    }
   ],
   "source": [
    "# Determine the current S3 region where this notebook is being hosted in SageMaker.\n",
    "with open('/opt/ml/metadata/resource-metadata.json') as notebook_info:\n",
    "    data = json.load(notebook_info)\n",
    "    resource_arn = data['ResourceArn']\n",
    "    region = resource_arn.split(':')[3]\n",
    "print(region)"
   ]
  },
  {
   "cell_type": "code",
   "execution_count": 30,
   "id": "ef7070ea",
   "metadata": {},
   "outputs": [
    {
     "name": "stdout",
     "output_type": "stream",
     "text": [
      "amazon-pantry-personalize-example144386903708\n"
     ]
    }
   ],
   "source": [
    "\n",
    "s3 = boto3.client('s3')\n",
    "account_id = boto3.client('sts').get_caller_identity().get('Account')\n",
    "bucket_name = \"amazon-pantry-personalize-example\"+account_id\n",
    "print(bucket_name)\n",
    "if region == \"us-east-1\":\n",
    "    s3.create_bucket(Bucket=bucket_name)\n",
    "else:\n",
    "    region='us-west-2'\n",
    "    s3.create_bucket(\n",
    "        Bucket=bucket_name,\n",
    "        CreateBucketConfiguration={'LocationConstraint': region}\n",
    "    )"
   ]
  },
  {
   "cell_type": "markdown",
   "id": "8241a134",
   "metadata": {},
   "source": [
    "#### Upload Interactions CSV to S3"
   ]
  },
  {
   "cell_type": "code",
   "execution_count": 31,
   "id": "b701102a",
   "metadata": {},
   "outputs": [],
   "source": [
    "boto3.Session().resource('s3').Bucket(bucket_name).Object(interactions_filename).upload_file(interactions_filename)"
   ]
  },
  {
   "cell_type": "markdown",
   "id": "775d5eb2",
   "metadata": {},
   "source": [
    "### Create S3 bucket policy and IAM role\n",
    "\n",
    "Before we can submit a dataset import job to Personalize, we have to create a bucket policy and IAM role that will give Personalize access to our bucket."
   ]
  },
  {
   "cell_type": "code",
   "execution_count": 32,
   "id": "0315f015",
   "metadata": {},
   "outputs": [
    {
     "data": {
      "text/plain": [
       "{'ResponseMetadata': {'RequestId': 'H5K1X3F9BCJMVW04',\n",
       "  'HostId': 'E+jhicBArPArPsseiSMoJyxiiUrhmypt9D5GVSCMY6EgYx1wFDYq4eYClVYInY1E6T5eiZO49EI=',\n",
       "  'HTTPStatusCode': 204,\n",
       "  'HTTPHeaders': {'x-amz-id-2': 'E+jhicBArPArPsseiSMoJyxiiUrhmypt9D5GVSCMY6EgYx1wFDYq4eYClVYInY1E6T5eiZO49EI=',\n",
       "   'x-amz-request-id': 'H5K1X3F9BCJMVW04',\n",
       "   'date': 'Thu, 07 Oct 2021 15:20:29 GMT',\n",
       "   'server': 'AmazonS3'},\n",
       "  'RetryAttempts': 0}}"
      ]
     },
     "execution_count": 32,
     "metadata": {},
     "output_type": "execute_result"
    }
   ],
   "source": [
    "policy = {\n",
    "    \"Version\": \"2012-10-17\",\n",
    "    \"Id\": \"PersonalizeS3BucketAccessPolicy\",\n",
    "    \"Statement\": [\n",
    "        {\n",
    "            \"Sid\": \"PersonalizeS3BucketAccessPolicy\",\n",
    "            \"Effect\": \"Allow\",\n",
    "            \"Principal\": {\n",
    "                \"Service\": \"personalize.amazonaws.com\"\n",
    "            },\n",
    "            \"Action\": [\n",
    "                \"s3:*Object\",\n",
    "                \"s3:ListBucket\"\n",
    "            ],\n",
    "            \"Resource\": [\n",
    "                \"arn:aws:s3:::{}\".format(bucket_name),\n",
    "                \"arn:aws:s3:::{}/*\".format(bucket_name)\n",
    "            ]\n",
    "        }\n",
    "    ]\n",
    "}\n",
    "\n",
    "s3.put_bucket_policy(Bucket=bucket_name, Policy=json.dumps(policy))"
   ]
  },
  {
   "cell_type": "code",
   "execution_count": 33,
   "id": "b2ae57b8",
   "metadata": {},
   "outputs": [
    {
     "name": "stdout",
     "output_type": "stream",
     "text": [
      "arn:aws:iam::144386903708:role/PersonalizeRoleAmazonPantryAwsSimilarItems\n"
     ]
    }
   ],
   "source": [
    "iam = boto3.client(\"iam\")\n",
    "\n",
    "role_name = \"PersonalizeRoleAmazonPantryAwsSimilarItems\"\n",
    "assume_role_policy_document = {\n",
    "    \"Version\": \"2012-10-17\",\n",
    "    \"Statement\": [\n",
    "        {\n",
    "          \"Effect\": \"Allow\",\n",
    "          \"Principal\": {\n",
    "            \"Service\": \"personalize.amazonaws.com\"\n",
    "          },\n",
    "          \"Action\": \"sts:AssumeRole\"\n",
    "        }\n",
    "    ]\n",
    "}\n",
    "\n",
    "create_role_response = iam.create_role(\n",
    "    RoleName = role_name,\n",
    "    AssumeRolePolicyDocument = json.dumps(assume_role_policy_document)\n",
    ")\n",
    "\n",
    "# AmazonPersonalizeFullAccess provides access to any S3 bucket with a name that includes \"personalize\" or \"Personalize\" \n",
    "# if you would like to use a bucket with a different name, please consider creating and attaching a new policy\n",
    "# that provides read access to your bucket or attaching the AmazonS3ReadOnlyAccess policy to the role\n",
    "policy_arn = \"arn:aws:iam::aws:policy/service-role/AmazonPersonalizeFullAccess\"\n",
    "iam.attach_role_policy(\n",
    "    RoleName = role_name,\n",
    "    PolicyArn = policy_arn\n",
    ")\n",
    "\n",
    "# Now add S3 support\n",
    "iam.attach_role_policy(\n",
    "    PolicyArn='arn:aws:iam::aws:policy/AmazonS3FullAccess',\n",
    "    RoleName=role_name\n",
    ")\n",
    "time.sleep(20) # wait for a minute to allow IAM role policy attachment to propagate\n",
    "\n",
    "role_arn = create_role_response[\"Role\"][\"Arn\"]\n",
    "print(role_arn)"
   ]
  },
  {
   "cell_type": "markdown",
   "id": "76b02547",
   "metadata": {},
   "source": [
    "### Import Interactions datasets\n",
    "\n",
    "Now we're ready to import the staged Interactions CSV in our S3 bucket to the Personalize dataset we created."
   ]
  },
  {
   "cell_type": "code",
   "execution_count": 35,
   "id": "068819a0",
   "metadata": {},
   "outputs": [
    {
     "name": "stdout",
     "output_type": "stream",
     "text": [
      "{\n",
      "  \"datasetImportJobArn\": \"arn:aws:personalize:us-east-1:144386903708:dataset-import-job/amazon-pantry-interactions-import\",\n",
      "  \"ResponseMetadata\": {\n",
      "    \"RequestId\": \"b8894f08-58a4-428e-b1f6-5df4e59849b9\",\n",
      "    \"HTTPStatusCode\": 200,\n",
      "    \"HTTPHeaders\": {\n",
      "      \"content-type\": \"application/x-amz-json-1.1\",\n",
      "      \"date\": \"Thu, 07 Oct 2021 15:22:04 GMT\",\n",
      "      \"x-amzn-requestid\": \"b8894f08-58a4-428e-b1f6-5df4e59849b9\",\n",
      "      \"content-length\": \"121\",\n",
      "      \"connection\": \"keep-alive\"\n",
      "    },\n",
      "    \"RetryAttempts\": 0\n",
      "  }\n",
      "}\n"
     ]
    }
   ],
   "source": [
    "create_dataset_import_job_response = personalize.create_dataset_import_job(\n",
    "    jobName = \"amazon-pantry-interactions-import\",\n",
    "    datasetArn = interactions_dataset,\n",
    "    dataSource = {\n",
    "        \"dataLocation\": \"s3://{}/{}\".format(bucket_name, interactions_filename)\n",
    "    },\n",
    "    roleArn = role_arn\n",
    ")\n",
    "\n",
    "dataset_import_job = create_dataset_import_job_response['datasetImportJobArn']\n",
    "print(json.dumps(create_dataset_import_job_response, indent=2))"
   ]
  },
  {
   "cell_type": "markdown",
   "id": "ce4f4d3f",
   "metadata": {},
   "source": [
    "### Create Items dataset schema and datasets\n",
    "\n",
    "Next we will repeat the process for the items datasets."
   ]
  },
  {
   "cell_type": "markdown",
   "id": "ebe053e0",
   "metadata": {},
   "source": [
    "Create a schema that includes the description. Be sure to take note of the `\"textual\": True` attribute on the `DESCRIPTION` field. This is how you differentiate unstructured text fields from categorical and string fields. Without this attribute, Personalize will not apply natural language processing techniques to extract features from this text."
   ]
  },
  {
   "cell_type": "code",
   "execution_count": 37,
   "id": "6f04a3df",
   "metadata": {},
   "outputs": [
    {
     "name": "stdout",
     "output_type": "stream",
     "text": [
      "{\n",
      "  \"schemaArn\": \"arn:aws:personalize:us-east-1:144386903708:schema/amazon-pantry-items-schema\",\n",
      "  \"ResponseMetadata\": {\n",
      "    \"RequestId\": \"2bf13abf-6115-415d-8f7d-bf1c4482bfb4\",\n",
      "    \"HTTPStatusCode\": 200,\n",
      "    \"HTTPHeaders\": {\n",
      "      \"content-type\": \"application/x-amz-json-1.1\",\n",
      "      \"date\": \"Thu, 07 Oct 2021 15:22:21 GMT\",\n",
      "      \"x-amzn-requestid\": \"2bf13abf-6115-415d-8f7d-bf1c4482bfb4\",\n",
      "      \"content-length\": \"92\",\n",
      "      \"connection\": \"keep-alive\"\n",
      "    },\n",
      "    \"RetryAttempts\": 0\n",
      "  }\n",
      "}\n"
     ]
    }
   ],
   "source": [
    "item_schema = {\n",
    "    \"type\": \"record\",\n",
    "    \"name\": \"Items\",\n",
    "    \"namespace\": \"com.amazonaws.personalize.schema\",\n",
    "    \"fields\": [\n",
    "        {\n",
    "            \"name\": \"ITEM_ID\",\n",
    "            \"type\": \"string\"\n",
    "        },\n",
    "        {\n",
    "            \"name\": \"BRAND\",\n",
    "            \"type\": [ \"null\", \"string\" ],\n",
    "            \"categorical\": True\n",
    "        },{\n",
    "            \"name\": \"PRICE\",\n",
    "            \"type\": [ \"null\", \"float\" ],\n",
    "        },{\n",
    "            \"name\": \"DESCRIPTION\",\n",
    "            \"type\": [ \"null\", \"string\" ],\n",
    "            \"textual\": True\n",
    "        }\n",
    "    ],\n",
    "    \"version\": \"1.0\"\n",
    "}\n",
    "\n",
    "create_schema_response = personalize.create_schema(\n",
    "    name = \"amazon-pantry-items-schema\",\n",
    "    schema = json.dumps(item_schema)\n",
    ")\n",
    "\n",
    "item_schema_arn = create_schema_response['schemaArn']\n",
    "print(json.dumps(create_schema_response, indent=2))"
   ]
  },
  {
   "cell_type": "markdown",
   "id": "5efb53b1",
   "metadata": {},
   "source": [
    "Next we will create Personalize datasets in our dataset group, taking special care to specify the approprate schema ARN for each dataset."
   ]
  },
  {
   "cell_type": "code",
   "execution_count": 38,
   "id": "7fe88cd3",
   "metadata": {},
   "outputs": [
    {
     "name": "stdout",
     "output_type": "stream",
     "text": [
      "{\n",
      "  \"datasetArn\": \"arn:aws:personalize:us-east-1:144386903708:dataset/amazon-pantry-aws-similar-items/ITEMS\",\n",
      "  \"ResponseMetadata\": {\n",
      "    \"RequestId\": \"f304bdcb-d941-444b-a83e-857c35eb0f2e\",\n",
      "    \"HTTPStatusCode\": 200,\n",
      "    \"HTTPHeaders\": {\n",
      "      \"content-type\": \"application/x-amz-json-1.1\",\n",
      "      \"date\": \"Thu, 07 Oct 2021 15:22:29 GMT\",\n",
      "      \"x-amzn-requestid\": \"f304bdcb-d941-444b-a83e-857c35eb0f2e\",\n",
      "      \"content-length\": \"105\",\n",
      "      \"connection\": \"keep-alive\"\n",
      "    },\n",
      "    \"RetryAttempts\": 0\n",
      "  }\n",
      "}\n"
     ]
    }
   ],
   "source": [
    "dataset_type = \"ITEMS\"\n",
    "create_dataset_response = personalize.create_dataset(\n",
    "    name = \"amazon-pantry-items\",\n",
    "    datasetType = dataset_type,\n",
    "    datasetGroupArn = dataset_group_arn,\n",
    "    schemaArn = item_schema_arn\n",
    ")\n",
    "\n",
    "items_dataset_arn = create_dataset_response['datasetArn']\n",
    "print(json.dumps(create_dataset_response, indent=2))"
   ]
  },
  {
   "cell_type": "markdown",
   "id": "e0877b2b",
   "metadata": {},
   "source": [
    "#### Stage Items CSV in S3\n",
    "\n",
    "Next we'll copy our two items CSV files to the same S3 bucket create above."
   ]
  },
  {
   "cell_type": "code",
   "execution_count": 39,
   "id": "1fe2cf47",
   "metadata": {},
   "outputs": [],
   "source": [
    "boto3.Session().resource('s3').Bucket(bucket_name).Object(items_filename).upload_file(items_filename)"
   ]
  },
  {
   "cell_type": "markdown",
   "id": "a5170f64",
   "metadata": {},
   "source": [
    "### Import Items datasets for each dataset group\n",
    "\n",
    "Since the S3 bucket policy and IAM role are already setup, we can just submit two dataset import jobs to import the Items CSVs."
   ]
  },
  {
   "cell_type": "code",
   "execution_count": 40,
   "id": "219d2d0e",
   "metadata": {},
   "outputs": [
    {
     "name": "stdout",
     "output_type": "stream",
     "text": [
      "{\n",
      "  \"datasetImportJobArn\": \"arn:aws:personalize:us-east-1:144386903708:dataset-import-job/amazon-pantry-items-import-job\",\n",
      "  \"ResponseMetadata\": {\n",
      "    \"RequestId\": \"27cf7ae3-1949-48fe-8884-bf282729cfc4\",\n",
      "    \"HTTPStatusCode\": 200,\n",
      "    \"HTTPHeaders\": {\n",
      "      \"content-type\": \"application/x-amz-json-1.1\",\n",
      "      \"date\": \"Thu, 07 Oct 2021 15:22:45 GMT\",\n",
      "      \"x-amzn-requestid\": \"27cf7ae3-1949-48fe-8884-bf282729cfc4\",\n",
      "      \"content-length\": \"118\",\n",
      "      \"connection\": \"keep-alive\"\n",
      "    },\n",
      "    \"RetryAttempts\": 0\n",
      "  }\n",
      "}\n"
     ]
    }
   ],
   "source": [
    "create_dataset_import_job_response = personalize.create_dataset_import_job(\n",
    "    jobName = \"amazon-pantry-items-import-job\",\n",
    "    datasetArn = items_dataset_arn,\n",
    "    dataSource = {\n",
    "        \"dataLocation\": \"s3://{}/{}\".format(bucket_name, items_filename)\n",
    "    },\n",
    "    roleArn = role_arn\n",
    ")\n",
    "\n",
    "dataset_import_job_items_arn = create_dataset_import_job_response['datasetImportJobArn']\n",
    "print(json.dumps(create_dataset_import_job_response, indent=2))"
   ]
  },
  {
   "cell_type": "markdown",
   "id": "6677fcb6",
   "metadata": {},
   "source": [
    "### Wait for Interactions dataset import jobs to complete\n",
    "\n",
    "The following cell will wait for both import jobs to complete."
   ]
  },
  {
   "cell_type": "code",
   "execution_count": null,
   "id": "d681727a",
   "metadata": {},
   "outputs": [],
   "source": [
    "%%time\n",
    "\n",
    "in_progress_import_arns = [ dataset_import_job ]\n",
    "\n",
    "max_time = time.time() + 3*60*60 # 3 hours\n",
    "while time.time() < max_time:\n",
    "    for import_arn in in_progress_import_arns:\n",
    "        describe_dataset_import_job_response = personalize.describe_dataset_import_job(\n",
    "            datasetImportJobArn = import_arn\n",
    "        )\n",
    "        status = describe_dataset_import_job_response[\"datasetImportJob\"]['status']\n",
    "        if status == \"ACTIVE\":\n",
    "            print(\"Dataset import succeeded for {}\".format(import_arn))\n",
    "            in_progress_import_arns.remove(import_arn)\n",
    "        elif status == \"CREATE FAILED\":\n",
    "            print(\"Create failed for {}\".format(import_arn))\n",
    "            in_progress_import_arns.remove(import_arn)\n",
    "\n",
    "    if len(in_progress_import_arns) <= 0:\n",
    "        break\n",
    "    else:\n",
    "        print(\"At least one dataset import job is still in progress\")\n",
    "                \n",
    "    time.sleep(60)"
   ]
  },
  {
   "cell_type": "markdown",
   "id": "e1e72d2c",
   "metadata": {},
   "source": [
    "### Wait for Items import job to complete\n",
    "\n",
    "The following logic will wait until both items datasets are fully imported into each dataset group."
   ]
  },
  {
   "cell_type": "code",
   "execution_count": null,
   "id": "5e6356a4",
   "metadata": {},
   "outputs": [],
   "source": [
    "%%time\n",
    "\n",
    "in_progress_import_arns = [ dataset_import_job_items_arn ]\n",
    "\n",
    "max_time = time.time() + 3*60*60 # 3 hours\n",
    "while time.time() < max_time:\n",
    "    for import_arn in in_progress_import_arns:\n",
    "        describe_dataset_import_job_response = personalize.describe_dataset_import_job(\n",
    "            datasetImportJobArn = import_arn\n",
    "        )\n",
    "        status = describe_dataset_import_job_response[\"datasetImportJob\"]['status']\n",
    "        if status == \"ACTIVE\":\n",
    "            print(\"Dataset import succeeded for {}\".format(import_arn))\n",
    "            in_progress_import_arns.remove(import_arn)\n",
    "        elif status == \"CREATE FAILED\":\n",
    "            print(\"Create failed for {}\".format(import_arn))\n",
    "            in_progress_import_arns.remove(import_arn)\n",
    "\n",
    "    if len(in_progress_import_arns) <= 0:\n",
    "        break\n",
    "    else:\n",
    "        print(\"At least one dataset import job is still in progress\")\n",
    "                \n",
    "    time.sleep(60)"
   ]
  },
  {
   "cell_type": "markdown",
   "id": "cdc2f061",
   "metadata": {},
   "source": [
    "## Create solutions and solution versions\n",
    "\n",
    "With the interactions and items datasets imported into each dataset group, we will next create solutions and solution versions using the user-personalization recipe for the data in each dataset group.\n",
    "\n",
    "First, let's list the Personalize recipes available."
   ]
  },
  {
   "cell_type": "code",
   "execution_count": 41,
   "id": "c50d4244",
   "metadata": {},
   "outputs": [
    {
     "data": {
      "text/plain": [
       "{'recipes': [{'name': 'aws-hrnn',\n",
       "   'recipeArn': 'arn:aws:personalize:::recipe/aws-hrnn',\n",
       "   'status': 'ACTIVE',\n",
       "   'creationDateTime': datetime.datetime(2019, 6, 10, 0, 0, tzinfo=tzlocal()),\n",
       "   'lastUpdatedDateTime': datetime.datetime(2021, 10, 2, 13, 24, 21, 632000, tzinfo=tzlocal())},\n",
       "  {'name': 'aws-hrnn-coldstart',\n",
       "   'recipeArn': 'arn:aws:personalize:::recipe/aws-hrnn-coldstart',\n",
       "   'status': 'ACTIVE',\n",
       "   'creationDateTime': datetime.datetime(2019, 6, 10, 0, 0, tzinfo=tzlocal()),\n",
       "   'lastUpdatedDateTime': datetime.datetime(2021, 10, 2, 13, 24, 21, 632000, tzinfo=tzlocal())},\n",
       "  {'name': 'aws-hrnn-metadata',\n",
       "   'recipeArn': 'arn:aws:personalize:::recipe/aws-hrnn-metadata',\n",
       "   'status': 'ACTIVE',\n",
       "   'creationDateTime': datetime.datetime(2019, 6, 10, 0, 0, tzinfo=tzlocal()),\n",
       "   'lastUpdatedDateTime': datetime.datetime(2021, 10, 2, 13, 24, 21, 632000, tzinfo=tzlocal())},\n",
       "  {'name': 'aws-personalized-ranking',\n",
       "   'recipeArn': 'arn:aws:personalize:::recipe/aws-personalized-ranking',\n",
       "   'status': 'ACTIVE',\n",
       "   'creationDateTime': datetime.datetime(2019, 6, 10, 0, 0, tzinfo=tzlocal()),\n",
       "   'lastUpdatedDateTime': datetime.datetime(2021, 10, 2, 13, 24, 21, 632000, tzinfo=tzlocal())},\n",
       "  {'name': 'aws-popularity-count',\n",
       "   'recipeArn': 'arn:aws:personalize:::recipe/aws-popularity-count',\n",
       "   'status': 'ACTIVE',\n",
       "   'creationDateTime': datetime.datetime(2019, 6, 10, 0, 0, tzinfo=tzlocal()),\n",
       "   'lastUpdatedDateTime': datetime.datetime(2021, 10, 2, 13, 24, 21, 632000, tzinfo=tzlocal())},\n",
       "  {'name': 'aws-similar-items',\n",
       "   'recipeArn': 'arn:aws:personalize:::recipe/aws-similar-items',\n",
       "   'status': 'ACTIVE',\n",
       "   'creationDateTime': datetime.datetime(2019, 6, 10, 0, 0, tzinfo=tzlocal()),\n",
       "   'lastUpdatedDateTime': datetime.datetime(2021, 10, 2, 13, 24, 21, 632000, tzinfo=tzlocal())},\n",
       "  {'name': 'aws-sims',\n",
       "   'recipeArn': 'arn:aws:personalize:::recipe/aws-sims',\n",
       "   'status': 'ACTIVE',\n",
       "   'creationDateTime': datetime.datetime(2019, 6, 10, 0, 0, tzinfo=tzlocal()),\n",
       "   'lastUpdatedDateTime': datetime.datetime(2021, 10, 2, 13, 24, 21, 632000, tzinfo=tzlocal())},\n",
       "  {'name': 'aws-user-personalization',\n",
       "   'recipeArn': 'arn:aws:personalize:::recipe/aws-user-personalization',\n",
       "   'status': 'ACTIVE',\n",
       "   'creationDateTime': datetime.datetime(2019, 6, 10, 0, 0, tzinfo=tzlocal()),\n",
       "   'lastUpdatedDateTime': datetime.datetime(2021, 10, 2, 13, 24, 21, 632000, tzinfo=tzlocal())}],\n",
       " 'ResponseMetadata': {'RequestId': '33514aac-57f5-4e01-b11a-ee8b07c6100c',\n",
       "  'HTTPStatusCode': 200,\n",
       "  'HTTPHeaders': {'content-type': 'application/x-amz-json-1.1',\n",
       "   'date': 'Thu, 07 Oct 2021 15:34:29 GMT',\n",
       "   'x-amzn-requestid': '33514aac-57f5-4e01-b11a-ee8b07c6100c',\n",
       "   'content-length': '1437',\n",
       "   'connection': 'keep-alive'},\n",
       "  'RetryAttempts': 0}}"
      ]
     },
     "execution_count": 41,
     "metadata": {},
     "output_type": "execute_result"
    }
   ],
   "source": [
    "personalize.list_recipes()"
   ]
  },
  {
   "cell_type": "markdown",
   "id": "51f358c0",
   "metadata": {},
   "source": [
    "We will use the `aws-sims` and `aws-similar-items` recipes to train two solutions in this notebook."
   ]
  },
  {
   "cell_type": "code",
   "execution_count": 42,
   "id": "02271018",
   "metadata": {},
   "outputs": [],
   "source": [
    "sims_recipe_arn = \"arn:aws:personalize:::recipe/aws-sims\"\n",
    "similar_items_recipe_arn = \"arn:aws:personalize:::recipe/aws-similar-items\""
   ]
  },
  {
   "cell_type": "markdown",
   "id": "cc295a46",
   "metadata": {},
   "source": [
    "First, we will create a solution and solution version for each of the recipes."
   ]
  },
  {
   "cell_type": "code",
   "execution_count": 43,
   "id": "1c9b7414",
   "metadata": {},
   "outputs": [],
   "source": [
    "sims_create_solution_response = personalize.create_solution(\n",
    "    name = \"amazon-pantry-sims-solution-example\",\n",
    "    datasetGroupArn = dataset_group_arn,\n",
    "    recipeArn = sims_recipe_arn\n",
    ")\n",
    "\n",
    "sims_solution_arn = sims_create_solution_response['solutionArn']"
   ]
  },
  {
   "cell_type": "code",
   "execution_count": 44,
   "id": "500fe519",
   "metadata": {},
   "outputs": [
    {
     "name": "stdout",
     "output_type": "stream",
     "text": [
      "arn:aws:personalize:us-east-1:144386903708:solution/amazon-pantry-sims-solution-example\n"
     ]
    }
   ],
   "source": [
    "print(sims_solution_arn)"
   ]
  },
  {
   "cell_type": "code",
   "execution_count": 45,
   "id": "5cf7526d",
   "metadata": {},
   "outputs": [],
   "source": [
    "sims_solution_version_response = personalize.create_solution_version(\n",
    "    solutionArn = sims_solution_arn\n",
    ")"
   ]
  },
  {
   "cell_type": "code",
   "execution_count": 46,
   "id": "243aa985",
   "metadata": {},
   "outputs": [
    {
     "name": "stdout",
     "output_type": "stream",
     "text": [
      "{\n",
      "  \"solutionVersionArn\": \"arn:aws:personalize:us-east-1:144386903708:solution/amazon-pantry-sims-solution-example/0fed38cd\",\n",
      "  \"ResponseMetadata\": {\n",
      "    \"RequestId\": \"f3d70620-3170-4700-acaa-a84de14de287\",\n",
      "    \"HTTPStatusCode\": 200,\n",
      "    \"HTTPHeaders\": {\n",
      "      \"content-type\": \"application/x-amz-json-1.1\",\n",
      "      \"date\": \"Thu, 07 Oct 2021 15:34:41 GMT\",\n",
      "      \"x-amzn-requestid\": \"f3d70620-3170-4700-acaa-a84de14de287\",\n",
      "      \"content-length\": \"121\",\n",
      "      \"connection\": \"keep-alive\"\n",
      "    },\n",
      "    \"RetryAttempts\": 0\n",
      "  }\n",
      "}\n"
     ]
    }
   ],
   "source": [
    "sims_solution_version_arn = sims_solution_version_response['solutionVersionArn']\n",
    "print(json.dumps(sims_solution_version_response, indent=2))"
   ]
  },
  {
   "cell_type": "markdown",
   "id": "4738b3bd",
   "metadata": {},
   "source": [
    "Next we will create a solution and solution version in the dataset group that includes the item descriptions."
   ]
  },
  {
   "cell_type": "code",
   "execution_count": 47,
   "id": "ffb40076",
   "metadata": {},
   "outputs": [],
   "source": [
    "similar_items_create_solution_response = personalize.create_solution(\n",
    "    name = \"amazon-pantry-aws-similar-items-solution-example\",\n",
    "    datasetGroupArn = dataset_group_arn,\n",
    "    recipeArn = similar_items_recipe_arn\n",
    ")\n",
    "\n",
    "similar_items_solution_arn = similar_items_create_solution_response['solutionArn']"
   ]
  },
  {
   "cell_type": "code",
   "execution_count": 48,
   "id": "39c3089a",
   "metadata": {},
   "outputs": [],
   "source": [
    "similar_items_solution_version_response = personalize.create_solution_version(\n",
    "    solutionArn = similar_items_solution_arn\n",
    ")"
   ]
  },
  {
   "cell_type": "code",
   "execution_count": 49,
   "id": "ae3db207",
   "metadata": {},
   "outputs": [
    {
     "name": "stdout",
     "output_type": "stream",
     "text": [
      "{\n",
      "  \"solutionVersionArn\": \"arn:aws:personalize:us-east-1:144386903708:solution/amazon-pantry-aws-similar-items-solution-example/23419275\",\n",
      "  \"ResponseMetadata\": {\n",
      "    \"RequestId\": \"7b802cd0-0ee2-4166-a1e6-f78dfac0600d\",\n",
      "    \"HTTPStatusCode\": 200,\n",
      "    \"HTTPHeaders\": {\n",
      "      \"content-type\": \"application/x-amz-json-1.1\",\n",
      "      \"date\": \"Thu, 07 Oct 2021 15:34:49 GMT\",\n",
      "      \"x-amzn-requestid\": \"7b802cd0-0ee2-4166-a1e6-f78dfac0600d\",\n",
      "      \"content-length\": \"134\",\n",
      "      \"connection\": \"keep-alive\"\n",
      "    },\n",
      "    \"RetryAttempts\": 0\n",
      "  }\n",
      "}\n"
     ]
    }
   ],
   "source": [
    "similar_items_solution_version_arn = similar_items_solution_version_response['solutionVersionArn']\n",
    "print(json.dumps(similar_items_solution_version_response, indent=2))"
   ]
  },
  {
   "cell_type": "markdown",
   "id": "479fc5de",
   "metadata": {},
   "source": [
    "### Wait for solution versions to become active\n",
    "\n",
    "Finally, we'll wait for the solution versions to finish being created. This step is where Personalize trains machine learning models based on the datasets and selected recipe. Personalize will also split the interactions datasets into training and evaluation portions so it can evaluate the quality of recommendations against the trained model using held out data.\n",
    "\n",
    "You will notice that the solution version in the dataset group that includes the description data will take longer to train than the one without the description."
   ]
  },
  {
   "cell_type": "code",
   "execution_count": null,
   "id": "420138b2",
   "metadata": {},
   "outputs": [
    {
     "name": "stdout",
     "output_type": "stream",
     "text": [
      "At least one solution build is still in progress\n"
     ]
    }
   ],
   "source": [
    "%%time\n",
    "\n",
    "in_progress_solution_versions = [\n",
    "    sims_solution_version_arn,\n",
    "    similar_items_solution_version_arn\n",
    "]\n",
    "\n",
    "max_time = time.time() + 10*60*60 # 10 hours\n",
    "while time.time() < max_time:\n",
    "    for solution_version_arn in in_progress_solution_versions:\n",
    "        version_response = personalize.describe_solution_version(\n",
    "            solutionVersionArn = solution_version_arn\n",
    "        )\n",
    "        status = version_response[\"solutionVersion\"][\"status\"]\n",
    "        \n",
    "        if status == \"ACTIVE\":\n",
    "            print(\"Build succeeded for {}\".format(solution_version_arn))\n",
    "            in_progress_solution_versions.remove(solution_version_arn)\n",
    "        elif status == \"CREATE FAILED\":\n",
    "            print(\"Build failed for {}\".format(solution_version_arn))\n",
    "            in_progress_solution_versions.remove(solution_version_arn)\n",
    "    \n",
    "    if len(in_progress_solution_versions) <= 0:\n",
    "        break\n",
    "    else:\n",
    "        print(\"At least one solution build is still in progress\")\n",
    "        \n",
    "    time.sleep(60)"
   ]
  },
  {
   "cell_type": "markdown",
   "id": "439a3cdb",
   "metadata": {},
   "source": [
    "Generally speaking, the addition of text-based unstructured meta will increase training time. In our case, you can see above that the solution version that trained on the dataset with product descriptions took about 15 minutes longer than the solution version trained on the dataset without production descriptions. This difference will vary based on the composition and text values for your datasets.\n",
    "\n",
    "Let's inspect the training hours for each solution version and compare them as well."
   ]
  },
  {
   "cell_type": "code",
   "execution_count": null,
   "id": "d0ca778a",
   "metadata": {},
   "outputs": [],
   "source": [
    "response = personalize.describe_solution_version(solutionVersionArn = sims_solution_version_arn)\n",
    "training_hours_sims = response['solutionVersion']['trainingHours']\n",
    "\n",
    "response = personalize.describe_solution_version(solutionVersionArn = similar_items_solution_version_arn)\n",
    "training_hours_similar_items = response['solutionVersion']['trainingHours']\n",
    "training_diff = (training_hours_sims - training_hours_similar_items) / training_hours_similar_items\n",
    "\n",
    "print(f\"Training hours sims: {training_hours_sims}\")\n",
    "print(f\"Training hours similar items: {training_hours_similar_items}\")\n",
    "\n",
    "print(\"Difference of {:.2%}\".format(training_diff))"
   ]
  },
  {
   "cell_type": "markdown",
   "id": "d51c3836",
   "metadata": {},
   "source": [
    "The training hours used for cost calculations was about 50% higher for training with the description column. \n",
    "\n",
    "The wall/clock time and training hours will vary depending on the size of your datasets but this information can help you assess the trade off when considering adding unstructured text to your datasets."
   ]
  },
  {
   "cell_type": "code",
   "execution_count": null,
   "id": "20616151",
   "metadata": {},
   "outputs": [],
   "source": [
    "sims_solution = {\n",
    "        \"solution_arn\": sims_solution_arn,\n",
    "        \"solution_version_arn\": sims_solution_version_arn\n",
    "}\n",
    "sims_v2_solution = {\n",
    "        \"solution_arn\": similar_items_solution_arn,\n",
    "        \"solution_version_arn\": similar_items_solution_version_arn\n",
    "}"
   ]
  },
  {
   "cell_type": "code",
   "execution_count": null,
   "id": "ffaa0841",
   "metadata": {},
   "outputs": [],
   "source": [
    "def create_campaign(solution,name):\n",
    "    create_campaign_response = personalize.create_campaign(\n",
    "        name = \"personalize-demo-\" + name + \"example\",\n",
    "        solutionVersionArn = solution['solution_version_arn'],\n",
    "        minProvisionedTPS = 1\n",
    "    )\n",
    "\n",
    "    campaign_arn = create_campaign_response['campaignArn']\n",
    "    print('campaign_arn:' + campaign_arn)\n",
    "    return campaign_arn\n",
    "\n",
    "def waitForCampaign(solution):\n",
    "    max_time = time.time() + 3*60*60 # 3 hours\n",
    "    while time.time() < max_time:\n",
    "        describe_campaign_response = personalize.describe_campaign(\n",
    "            campaignArn = solution['campaign_arn']\n",
    "        )\n",
    "        status = describe_campaign_response[\"campaign\"][\"status\"]\n",
    "        print(\"Campaign: {} {}\".format(solution['campaign_arn'], status))\n",
    "\n",
    "        if status == \"ACTIVE\" or status == \"CREATE FAILED\":\n",
    "            break\n",
    "\n",
    "        time.sleep(60)"
   ]
  },
  {
   "cell_type": "markdown",
   "id": "f0bb3f22",
   "metadata": {},
   "source": [
    "#### Create and wait for the 2 Campaigns\n",
    "Create a campaign for each of the items similarities recipes, but keep all the other settings the same to demonstrate the impact of the addition of metadata."
   ]
  },
  {
   "cell_type": "code",
   "execution_count": null,
   "id": "84b64e01",
   "metadata": {},
   "outputs": [],
   "source": [
    "sims_solution['campaign_arn'] = create_campaign(sims_solution, 'sims')\n",
    "sims_v2_solution['campaign_arn'] = create_campaign(sims_v2_solution, 'aws-similar-items')"
   ]
  },
  {
   "cell_type": "code",
   "execution_count": null,
   "id": "99324025",
   "metadata": {},
   "outputs": [],
   "source": [
    "waitForCampaign(sims_solution)\n",
    "waitForCampaign(sims_v2_solution)"
   ]
  },
  {
   "cell_type": "markdown",
   "id": "76aaec29",
   "metadata": {},
   "source": [
    "# Getting Recommendations\n",
    "\n",
    "First we are going to select three types of items to infer with\n",
    "1. Item with a high number of interactions\n",
    "1. Item with a low number of interactions\n",
    "1. Random itemId\n",
    "\n",
    "We will then look at how each of the models behave with each of the provided items\n"
   ]
  },
  {
   "cell_type": "markdown",
   "id": "916f62d7",
   "metadata": {},
   "source": [
    "Lets take a look at our interactions dataset and plot the distribution of items that have been interacted with"
   ]
  },
  {
   "cell_type": "code",
   "execution_count": null,
   "id": "58f337bb",
   "metadata": {},
   "outputs": [],
   "source": [
    "items_interacted_df = positive_reviews_df.copy()\n",
    "# Getting unique aisns counts\n",
    "asin_interaction_count = items_interacted_df['asin'].value_counts()\n",
    "# Transforming panda series to df\n",
    "asin_interaction_count_df = pd.DataFrame({'asin':asin_interaction_count.index, 'count':asin_interaction_count.values})\n",
    "asin_interaction_count_df"
   ]
  },
  {
   "cell_type": "code",
   "execution_count": null,
   "id": "031ac077",
   "metadata": {},
   "outputs": [],
   "source": [
    "asin_interaction_count_df.describe(include='int')"
   ]
  },
  {
   "cell_type": "markdown",
   "id": "12952404",
   "metadata": {},
   "source": [
    "As we can see above, the highest interacted item has ~5k interactions, lets plot the distribution of all items. Here we can see that there are items with high number of interactions and some with very low to non interactions."
   ]
  },
  {
   "cell_type": "code",
   "execution_count": null,
   "id": "8479f25f",
   "metadata": {},
   "outputs": [],
   "source": [
    "asin_interaction_count_df.plot()"
   ]
  },
  {
   "cell_type": "markdown",
   "id": "4e6e12e1",
   "metadata": {},
   "source": [
    "Below we can see a closer look at items with 100 to 300 interactions. These are going to give us the most variable results when testing."
   ]
  },
  {
   "cell_type": "code",
   "execution_count": null,
   "id": "a3b674c7",
   "metadata": {},
   "outputs": [],
   "source": [
    "zoom_interactions = asin_interaction_count_df.copy()\n",
    "zoom_interactions = zoom_interactions.loc[(zoom_interactions[\"count\"] > 100) & (zoom_interactions[\"count\"] < 300)]\n",
    "zoom_interactions.plot()"
   ]
  },
  {
   "cell_type": "markdown",
   "id": "7c541c1c",
   "metadata": {},
   "source": [
    "Now lets define some functions to explore the items metadata"
   ]
  },
  {
   "cell_type": "code",
   "execution_count": null,
   "id": "fa6a0ec6",
   "metadata": {},
   "outputs": [],
   "source": [
    "# https://www.geeksforgeeks.org/how-to-select-rows-from-a-dataframe-based-on-column-values/\n",
    "def get_item_brand(item_id):\n",
    "    \"\"\"\n",
    "    Takes in an ID, returns its brand\n",
    "    \"\"\"\n",
    "\n",
    "    return items_df.query('ITEM_ID==\"{}\"'.format(item_id))['BRAND'].item()\n",
    "\n",
    "def get_item_price(item_id):\n",
    "    \"\"\"\n",
    "    Takes in an ID, returns its brand\n",
    "    \"\"\"\n",
    "\n",
    "    return items_df.query('ITEM_ID==\"{}\"'.format(item_id))['PRICE'].item()\n",
    "\n",
    "def get_item_description(item_id):\n",
    "    \"\"\"\n",
    "    Takes in an ID, returns its brand\n",
    "    \"\"\"\n",
    "\n",
    "    return items_df.query('ITEM_ID==\"{}\"'.format(item_id))['DESCRIPTION'].item()\n",
    "def get_item_df(item_id):\n",
    "    \"\"\"\n",
    "    Takes in an ID, returns a title\n",
    "    \"\"\"\n",
    "    temp_df = items_df.query('ITEM_ID==\"{}\"'.format(item_id))\n",
    "  \n",
    "    temp_df['INTERACTIONS_COUNT'] = get_item_count(item_id)\n",
    "    return temp_df\n",
    "def get_item_count(item_id):\n",
    "    return asin_interaction_count_df.query('asin==\"{}\"'.format(item_id))['count'].item()\n",
    "    \n",
    "def get_recs_df(item_id, campaign):\n",
    "    response = personalize_runtime.get_recommendations(\n",
    "        campaignArn=campaign,\n",
    "        itemId=item_id,\n",
    "#         numResults=5\n",
    "    )\n",
    "    return clean_recs_list(response['itemList'])\n",
    "\n",
    "def clean_recs_list(rec_list):\n",
    "    items = []\n",
    "    for each in rec_list:\n",
    "        items.append([each['itemId'], get_item_brand(each['itemId']), get_item_price(each['itemId']), get_item_description(each['itemId']), get_item_count(each['itemId'])])\n",
    "    return pd.DataFrame (items, columns = ['ITEM_ID', 'BRAND', 'PRICE','DESCRIPTION', 'INTERACTIONS_COUNT'])"
   ]
  },
  {
   "cell_type": "markdown",
   "id": "b04a26ee",
   "metadata": {},
   "source": [
    "Lets get a random item id and explore each model recommendations"
   ]
  },
  {
   "cell_type": "code",
   "execution_count": null,
   "id": "fed681f8",
   "metadata": {},
   "outputs": [],
   "source": [
    "asin_interaction_count_df.sample()['asin'].item()"
   ]
  },
  {
   "cell_type": "code",
   "execution_count": null,
   "id": "d33b811a",
   "metadata": {},
   "outputs": [],
   "source": [
    "asin = asin_interaction_count_df.sample(1)['asin'].item()\n",
    "recommended_item_df = get_item_df(asin)\n",
    "recommendations_sims_df = get_recs_df(asin,sims_solution['campaign_arn'])\n",
    "recommendations_sims_v2_df = get_recs_df(asin,sims_v2_solution['campaign_arn'])"
   ]
  },
  {
   "cell_type": "markdown",
   "id": "81005fdb",
   "metadata": {},
   "source": [
    "This is the item we are going to run inference against, as we can see here we have the brand, price, and number of interactions. The theory is that for items with low interactions SIMS will return mostly popular items, and the new aws-item-similarity recipe will return items more related to the current item metadata"
   ]
  },
  {
   "cell_type": "code",
   "execution_count": null,
   "id": "0e35d845",
   "metadata": {},
   "outputs": [],
   "source": [
    "recommended_item_df"
   ]
  },
  {
   "cell_type": "code",
   "execution_count": null,
   "id": "9833b4cf",
   "metadata": {},
   "outputs": [],
   "source": [
    "recommended_item_df['DESCRIPTION'].item()"
   ]
  },
  {
   "cell_type": "code",
   "execution_count": null,
   "id": "7a1f5a3b",
   "metadata": {},
   "outputs": [],
   "source": [
    "recommendations_sims_df"
   ]
  },
  {
   "cell_type": "markdown",
   "id": "763fd928",
   "metadata": {},
   "source": [
    "Cost category and product groupings"
   ]
  },
  {
   "cell_type": "code",
   "execution_count": null,
   "id": "467d8852",
   "metadata": {},
   "outputs": [],
   "source": [
    "recommendations_sims_v2_df"
   ]
  },
  {
   "cell_type": "markdown",
   "id": "f7a00749",
   "metadata": {},
   "source": [
    "Let's print the descriptions too see if they match our item theme"
   ]
  },
  {
   "cell_type": "code",
   "execution_count": null,
   "id": "d5d347ed",
   "metadata": {},
   "outputs": [],
   "source": [
    "for index, row in recommendations_sims_v2_df.iterrows():\n",
    "    print('----ITEM----')\n",
    "    print('Recommendation number {index}, BRAND: {brand}, PRICE: {price}'.format(index=index+1, brand=row['BRAND'], price=row['PRICE']))\n",
    "    print('----DESCRIPTION----')\n",
    "    print(row['DESCRIPTION'])\n"
   ]
  },
  {
   "cell_type": "markdown",
   "id": "7edb5bf5",
   "metadata": {},
   "source": [
    "# Targeted examples\n",
    "\n",
    "Now let's take a look at some more targeted items to see how these two models behave"
   ]
  },
  {
   "cell_type": "markdown",
   "id": "142cfff7",
   "metadata": {},
   "source": [
    "## Popular item"
   ]
  },
  {
   "cell_type": "code",
   "execution_count": null,
   "id": "bba5875c",
   "metadata": {},
   "outputs": [],
   "source": [
    "asin = 'B00HZ6X8QU'\n",
    "recommended_item_df = get_item_df(asin)\n",
    "recommendations_sims_df = get_recs_df(asin,sims_solution['campaign_arn'])\n",
    "recommendations_sims_v2_df = get_recs_df(asin,sims_v2_solution['campaign_arn'])\n",
    "recommended_item_df"
   ]
  },
  {
   "cell_type": "markdown",
   "id": "c4e22b88",
   "metadata": {},
   "source": [
    "The theory is that for items with low interactions SIMS will return mostly popular items, and the new aws-item-similarity recipe will return items more related to the current item metadata (price and description)\n",
    "\n",
    "**Full description:**\n"
   ]
  },
  {
   "cell_type": "code",
   "execution_count": null,
   "id": "3d9b6606",
   "metadata": {},
   "outputs": [],
   "source": [
    "recommended_item_df['DESCRIPTION'].item()"
   ]
  },
  {
   "cell_type": "markdown",
   "id": "b795cafc",
   "metadata": {},
   "source": [
    "#### SIMS"
   ]
  },
  {
   "cell_type": "code",
   "execution_count": null,
   "id": "c6c3397c",
   "metadata": {},
   "outputs": [],
   "source": [
    "recommendations_sims_df"
   ]
  },
  {
   "cell_type": "markdown",
   "id": "e096daa3",
   "metadata": {},
   "source": [
    "We can see here, the SIMS model returns popular items. Which is not optimal"
   ]
  },
  {
   "cell_type": "markdown",
   "id": "3911f0e2",
   "metadata": {},
   "source": [
    "#### SIMS V2"
   ]
  },
  {
   "cell_type": "code",
   "execution_count": null,
   "id": "5f700db5",
   "metadata": {},
   "outputs": [],
   "source": [
    "recommendations_sims_v2_df"
   ]
  },
  {
   "cell_type": "markdown",
   "id": "fd4d166d",
   "metadata": {},
   "source": [
    "We see very comparable recommendations across both models! Which is an expected behavior considering the item is one of the most popular across the interactions dataset. Now less take a look at recommendations of an item not as popular"
   ]
  },
  {
   "cell_type": "markdown",
   "id": "70d43e27",
   "metadata": {},
   "source": [
    "## Unpopular item"
   ]
  },
  {
   "cell_type": "code",
   "execution_count": null,
   "id": "751d642c",
   "metadata": {},
   "outputs": [],
   "source": [
    "# B017BGLXYC - SODA - low price - low interactions\n",
    "asin = 'B01GCT22E4'\n",
    "recommended_item_df = get_item_df(asin)\n",
    "recommendations_sims_df = get_recs_df(asin,sims_solution['campaign_arn'])\n",
    "recommendations_sims_v2_df = get_recs_df(asin,sims_v2_solution['campaign_arn'])\n",
    "recommended_item_df"
   ]
  },
  {
   "cell_type": "markdown",
   "id": "9ba39581",
   "metadata": {},
   "source": [
    "The theory is that for items with low interactions SIMS will return mostly popular items, and the new aws-item-similarity recipe will return items more related to the current item metadata (price and description)\n",
    "\n",
    "**Full description:**\n"
   ]
  },
  {
   "cell_type": "code",
   "execution_count": null,
   "id": "5ef4f714",
   "metadata": {},
   "outputs": [],
   "source": [
    "recommended_item_df['DESCRIPTION'].item()"
   ]
  },
  {
   "cell_type": "markdown",
   "id": "98015bc5",
   "metadata": {},
   "source": [
    "#### SIMS"
   ]
  },
  {
   "cell_type": "code",
   "execution_count": null,
   "id": "0e3440dc",
   "metadata": {},
   "outputs": [],
   "source": [
    "recommendations_sims_df"
   ]
  },
  {
   "cell_type": "markdown",
   "id": "2940b861",
   "metadata": {},
   "source": [
    "We can see here, the SIMS model returns popular items. Which is not optimal"
   ]
  },
  {
   "cell_type": "markdown",
   "id": "0472a8a7",
   "metadata": {},
   "source": [
    "#### SIMS V2"
   ]
  },
  {
   "cell_type": "code",
   "execution_count": null,
   "id": "04661e29",
   "metadata": {},
   "outputs": [],
   "source": [
    "recommendations_sims_v2_df"
   ]
  },
  {
   "cell_type": "markdown",
   "id": "eb621e11",
   "metadata": {},
   "source": [
    "Let's print the descriptions too see if they match our item theme"
   ]
  },
  {
   "cell_type": "code",
   "execution_count": null,
   "id": "969b1110",
   "metadata": {},
   "outputs": [],
   "source": [
    "for index, row in recommendations_sims_v2_df.iterrows():\n",
    "    print('----ITEM----')\n",
    "    print('Recommendation number {index}, BRAND: {brand}, PRICE: {price}'.format(index=index+1, brand=row['BRAND'], price=row['PRICE']))\n",
    "    print('----DESCRIPTION----')\n",
    "    print(row['DESCRIPTION'])\n"
   ]
  }
 ],
 "metadata": {
  "kernelspec": {
   "display_name": "conda_python3",
   "language": "python",
   "name": "conda_python3"
  },
  "language_info": {
   "codemirror_mode": {
    "name": "ipython",
    "version": 3
   },
   "file_extension": ".py",
   "mimetype": "text/x-python",
   "name": "python",
   "nbconvert_exporter": "python",
   "pygments_lexer": "ipython3",
   "version": "3.6.13"
  }
 },
 "nbformat": 4,
 "nbformat_minor": 5
}
